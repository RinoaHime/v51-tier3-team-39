{
  "cells": [
    {
      "cell_type": "markdown",
      "metadata": {
        "id": "view-in-github",
        "colab_type": "text"
      },
      "source": [
        "<a href=\"https://colab.research.google.com/github/chingu-voyages/v51-tier3-team-39/blob/main/marlissa_chingu.ipynb\" target=\"_parent\"><img src=\"https://colab.research.google.com/assets/colab-badge.svg\" alt=\"Open In Colab\"/></a>"
      ]
    },
    {
      "cell_type": "markdown",
      "source": [
        "# Title\n"
      ],
      "metadata": {
        "id": "F6H7e9_bEPRf"
      }
    },
    {
      "cell_type": "code",
      "source": [
        "import pandas as pd\n",
        "from google.colab import drive\n",
        "import random\n",
        "from datetime import datetime\n",
        "import numpy as np\n",
        "import re\n",
        "import matplotlib.pyplot as plt"
      ],
      "metadata": {
        "id": "f1NdjzelERy8"
      },
      "execution_count": 1,
      "outputs": []
    },
    {
      "cell_type": "code",
      "source": [
        "drive.mount('/content/drive')"
      ],
      "metadata": {
        "colab": {
          "base_uri": "https://localhost:8080/"
        },
        "id": "efhgf1Hzdt2b",
        "outputId": "a48fb58a-ade6-43d6-903e-9081646e791b"
      },
      "execution_count": 2,
      "outputs": [
        {
          "output_type": "stream",
          "name": "stdout",
          "text": [
            "Drive already mounted at /content/drive; to attempt to forcibly remount, call drive.mount(\"/content/drive\", force_remount=True).\n"
          ]
        }
      ]
    },
    {
      "cell_type": "code",
      "source": [
        "# # File path for user_reviews\n",
        "# file_path = '/content/drive/MyDrive/chingu/chingu_datasets/user_reviews.csv'\n",
        "\n",
        "# # Define chunk size for reading in parts\n",
        "# chunk_size = 100000  # Smaller chunk size for less memory usage\n",
        "# target_sample_size = 1000000  # 1 million rows\n",
        "\n",
        "# # Set random seed for reproducibility\n",
        "# random_seed = 42\n",
        "\n",
        "# # Initialize an empty dataframe for the sampled data\n",
        "# sampled_reviews = pd.DataFrame()\n",
        "\n",
        "# # Iterate through the dataset in chunks\n",
        "# for chunk in pd.read_csv(file_path, chunksize=chunk_size):\n",
        "#     # Sample a portion from each chunk, setting a random seed\n",
        "#     sampled_chunk = chunk.sample(frac=min(1, (target_sample_size - len(sampled_reviews)) / len(chunk)), random_state=random_seed)\n",
        "\n",
        "#     # Append the sampled chunk to the result dataframe\n",
        "#     sampled_reviews = pd.concat([sampled_reviews, sampled_chunk], ignore_index=True)\n",
        "\n",
        "#     # Stop when we've sampled enough rows\n",
        "#     if len(sampled_reviews) >= target_sample_size:\n",
        "#         break\n",
        "\n",
        "# # Trim down to exactly 1 million rows\n",
        "# sampled_reviews = sampled_reviews.iloc[:target_sample_size]\n",
        "\n",
        "# # Save the sampled dataset\n",
        "# sampled_reviews.to_csv('/content/drive/MyDrive/chingu/chingu_datasets/sampled_user_reviews_1m_optimized.csv', index=False)\n",
        "\n",
        "\n"
      ],
      "metadata": {
        "id": "ZBmz3s34ChCA"
      },
      "execution_count": 3,
      "outputs": []
    },
    {
      "cell_type": "code",
      "source": [
        "def camel_to_snake_manual(name):\n",
        "    result = [name[0].lower()]\n",
        "    for char in name[1:]:\n",
        "        if char.isupper():\n",
        "            result.append('_')\n",
        "            result.append(char.lower())\n",
        "        else:\n",
        "            result.append(char)\n",
        "    return ''.join(result)"
      ],
      "metadata": {
        "id": "mLUV_pxuV01n"
      },
      "execution_count": 4,
      "outputs": []
    },
    {
      "cell_type": "code",
      "source": [
        "def standardize_score(score):\n",
        "    try:\n",
        "        if '/' in score:\n",
        "            num, denom = map(float, re.findall(r\"[\\d.]+\", score))\n",
        "            return round((num / denom) * 10, 1)  # Convert to a scale of 10\n",
        "        else:\n",
        "            return np.nan  # Return NaN for non-standard entries\n",
        "    except:\n",
        "        return np.nan\n",
        "\n",
        "def convert_fraction_to_10_scale(score):\n",
        "    if isinstance(score, str) and '/' in score:\n",
        "        try:\n",
        "            num, denom = map(float, score.split('/'))\n",
        "            if denom != 0:  # Check to avoid division by zero\n",
        "                return round((num / denom) * 10, 1)  # Convert to a scale of 10\n",
        "        except ValueError:\n",
        "            return np.nan  # Handle any invalid cases\n",
        "    return np.nan  # Return NaN for non-fraction values\n"
      ],
      "metadata": {
        "id": "bLaFEGUxdiKe"
      },
      "execution_count": 5,
      "outputs": []
    },
    {
      "cell_type": "code",
      "source": [],
      "metadata": {
        "id": "fdZdaAHxmHic"
      },
      "execution_count": 5,
      "outputs": []
    },
    {
      "cell_type": "code",
      "source": [
        "critic_reviews = pd.read_csv('/content/drive/MyDrive/chingu/chingu_datasets/critic_reviews.csv')\n",
        "movies = pd.read_csv('/content/drive/MyDrive/chingu/chingu_datasets/movies.csv')\n",
        "sampled_user_reviews = pd.read_csv('/content/drive/MyDrive/chingu/chingu_datasets/sampled_user_reviews_1m_optimized.csv')\n",
        "\n",
        "print('Critic Reviews shape:', critic_reviews.shape)\n",
        "print('Movies shape:', movies.shape)\n",
        "print('User Reviews shape:', sampled_user_reviews.shape)"
      ],
      "metadata": {
        "colab": {
          "base_uri": "https://localhost:8080/"
        },
        "id": "_hWQRL8eF2u_",
        "outputId": "a6332b20-c45e-4263-c23e-a857c6413d84"
      },
      "execution_count": 6,
      "outputs": [
        {
          "output_type": "stream",
          "name": "stderr",
          "text": [
            "<ipython-input-6-24b98a106077>:1: DtypeWarning: Columns (8) have mixed types. Specify dtype option on import or set low_memory=False.\n",
            "  critic_reviews = pd.read_csv('/content/drive/MyDrive/chingu/chingu_datasets/critic_reviews.csv')\n"
          ]
        },
        {
          "output_type": "stream",
          "name": "stdout",
          "text": [
            "Critic Reviews shape: (967564, 16)\n",
            "Movies shape: (10233, 13)\n",
            "User Reviews shape: (1000000, 13)\n"
          ]
        }
      ]
    },
    {
      "cell_type": "markdown",
      "source": [
        "# Datasets"
      ],
      "metadata": {
        "id": "c-CNjLIaYQI8"
      }
    },
    {
      "cell_type": "markdown",
      "source": [
        "## `critic_reviews`"
      ],
      "metadata": {
        "id": "fdEG_kvzbmhO"
      }
    },
    {
      "cell_type": "markdown",
      "source": [
        "#### Data Dictionary for `critic_reviews`\n",
        "\n",
        "| Column Name       | Data Type | Description                                                                                         |\n",
        "| ----------------- | --------- | --------------------------------------------------------------------------------------------------- |\n",
        "| `reviewId`        | int64     | Unique identifier for each critic's review.                                                         |\n",
        "| `movieId`         | object    | Unique identifier for each movie.                                                                   |\n",
        "| `creationDate`    | object    | Date when the review was created.                                                                   |\n",
        "| `criticName`      | object    | Name of the critic who wrote the review.                                                            |\n",
        "| `criticPageUrl`   | object    | URL to the critic's profile or review page.                                                         |\n",
        "| `reviewState`     | object    | Status of the review (e.g., \"published\", \"draft\").                                                  |\n",
        "| `isFresh`         | bool      | Indicates whether the review is considered \"fresh\" (positive).                                      |\n",
        "| `isRotten`        | bool      | Indicates whether the review is considered \"rotten\" (negative).                                     |\n",
        "| `isRtUrl`         | object    | Indicates whether there is a URL link to the full review on Rotten Tomatoes                                  |\n",
        "| `isTopCritic`     | bool      | Indicates whether the review is from a top critic.                                                  |\n",
        "| `publicationUrl`  | object    | URL of the publication where the review was published.                                              |\n",
        "| `publicationName` | object    | Name of the publication that published the review.                                                  |\n",
        "| `reviewUrl`       | object    | URL link to the full review (if available).                                                         |\n",
        "| `quote`           | object    | A short excerpt or quote from the review.                                                           |\n",
        "| `scoreSentiment`  | object    | The sentiment of the review score (e.g., positive, negative).                              |\n",
        "| `originalScore`   | object    | The original score given by the critic |"
      ],
      "metadata": {
        "id": "VIHtxRpZZfo8"
      }
    },
    {
      "cell_type": "code",
      "source": [
        "critic_reviews.info()"
      ],
      "metadata": {
        "colab": {
          "base_uri": "https://localhost:8080/"
        },
        "id": "yarLWkErcFGD",
        "outputId": "fde39724-edf0-45db-ca6f-1c7e7dc4c9e4"
      },
      "execution_count": 7,
      "outputs": [
        {
          "output_type": "stream",
          "name": "stdout",
          "text": [
            "<class 'pandas.core.frame.DataFrame'>\n",
            "RangeIndex: 967564 entries, 0 to 967563\n",
            "Data columns (total 16 columns):\n",
            " #   Column           Non-Null Count   Dtype \n",
            "---  ------           --------------   ----- \n",
            " 0   reviewId         967564 non-null  int64 \n",
            " 1   movieId          967564 non-null  object\n",
            " 2   creationDate     967564 non-null  object\n",
            " 3   criticName       958112 non-null  object\n",
            " 4   criticPageUrl    958112 non-null  object\n",
            " 5   reviewState      967564 non-null  object\n",
            " 6   isFresh          967564 non-null  bool  \n",
            " 7   isRotten         967564 non-null  bool  \n",
            " 8   isRtUrl          911079 non-null  object\n",
            " 9   isTopCritic      967564 non-null  bool  \n",
            " 10  publicationUrl   967564 non-null  object\n",
            " 11  publicationName  967564 non-null  object\n",
            " 12  reviewUrl        849906 non-null  object\n",
            " 13  quote            934601 non-null  object\n",
            " 14  scoreSentiment   967564 non-null  object\n",
            " 15  originalScore    693527 non-null  object\n",
            "dtypes: bool(3), int64(1), object(12)\n",
            "memory usage: 98.7+ MB\n"
          ]
        }
      ]
    },
    {
      "cell_type": "code",
      "source": [
        "critic_reviews.head()"
      ],
      "metadata": {
        "colab": {
          "base_uri": "https://localhost:8080/",
          "height": 625
        },
        "id": "P1VAHOqFcNRq",
        "outputId": "3c6fd0cc-4fd5-4a6e-df11-1e85e35b110f"
      },
      "execution_count": 8,
      "outputs": [
        {
          "output_type": "execute_result",
          "data": {
            "text/plain": [
              "   reviewId                               movieId creationDate  \\\n",
              "0   1913967  16db6b7e-176a-3a45-a31f-158a09f94630   1800-01-01   \n",
              "1   1906428  29998351-00a7-31ca-b616-6436ffe438e5   1800-01-01   \n",
              "2   1902262  34bf7e79-d110-3b33-93f5-d1e3b79aea10   1800-01-01   \n",
              "3   1897051  3aeb7064-f73d-32c1-8432-94babc14e6f1   1800-01-01   \n",
              "4   1909547  3bd845e8-2e38-3504-9682-45bede2bb83c   1800-01-01   \n",
              "\n",
              "           criticName                criticPageUrl reviewState  isFresh  \\\n",
              "0  Jonathan Rosenbaum  /critics/jonathan-rosenbaum       fresh     True   \n",
              "1      Jennie Kermode      /critics/jennie-kermode       fresh     True   \n",
              "2     Owen Gleiberman     /critics/owen-gleiberman       fresh     True   \n",
              "3     Owen Gleiberman     /critics/owen-gleiberman       fresh     True   \n",
              "4                 NaN                          NaN      rotten    False   \n",
              "\n",
              "   isRotten isRtUrl  isTopCritic        publicationUrl       publicationName  \\\n",
              "0     False   False         True    /critics/source/66        Chicago Reader   \n",
              "1     False   False        False  /critics/source/1869          Eye for Film   \n",
              "2     False   False         True   /critics/source/150  Entertainment Weekly   \n",
              "3     False   False         True   /critics/source/150  Entertainment Weekly   \n",
              "4      True   False         True   /critics/source/150  Entertainment Weekly   \n",
              "\n",
              "                                           reviewUrl  \\\n",
              "0  http://www.chicagoreader.com/chicago/the-adven...   \n",
              "1    http://www.eyeforfilm.co.uk/reviews.php?id=7968   \n",
              "2  https://ew.com/article/1993/10/15/movie-review...   \n",
              "3     http://www.ew.com/ew/article/0,,309271,00.html   \n",
              "4     http://www.ew.com/ew/article/0,,318442,00.html   \n",
              "\n",
              "                                               quote scoreSentiment  \\\n",
              "0  Terry Gilliam's third fantasy feature may not ...       POSITIVE   \n",
              "1                                                NaN       POSITIVE   \n",
              "2  Weir, working from a script by Rafael Yglesias...       POSITIVE   \n",
              "3  Coming out from behind Spike Lee's camera, Ern...       POSITIVE   \n",
              "4                                                NaN       NEGATIVE   \n",
              "\n",
              "  originalScore  \n",
              "0           NaN  \n",
              "1         3.5/5  \n",
              "2             B  \n",
              "3            B+  \n",
              "4            D+  "
            ],
            "text/html": [
              "\n",
              "  <div id=\"df-09e8b2dd-3c85-44c5-bf3a-52fee48cb0d5\" class=\"colab-df-container\">\n",
              "    <div>\n",
              "<style scoped>\n",
              "    .dataframe tbody tr th:only-of-type {\n",
              "        vertical-align: middle;\n",
              "    }\n",
              "\n",
              "    .dataframe tbody tr th {\n",
              "        vertical-align: top;\n",
              "    }\n",
              "\n",
              "    .dataframe thead th {\n",
              "        text-align: right;\n",
              "    }\n",
              "</style>\n",
              "<table border=\"1\" class=\"dataframe\">\n",
              "  <thead>\n",
              "    <tr style=\"text-align: right;\">\n",
              "      <th></th>\n",
              "      <th>reviewId</th>\n",
              "      <th>movieId</th>\n",
              "      <th>creationDate</th>\n",
              "      <th>criticName</th>\n",
              "      <th>criticPageUrl</th>\n",
              "      <th>reviewState</th>\n",
              "      <th>isFresh</th>\n",
              "      <th>isRotten</th>\n",
              "      <th>isRtUrl</th>\n",
              "      <th>isTopCritic</th>\n",
              "      <th>publicationUrl</th>\n",
              "      <th>publicationName</th>\n",
              "      <th>reviewUrl</th>\n",
              "      <th>quote</th>\n",
              "      <th>scoreSentiment</th>\n",
              "      <th>originalScore</th>\n",
              "    </tr>\n",
              "  </thead>\n",
              "  <tbody>\n",
              "    <tr>\n",
              "      <th>0</th>\n",
              "      <td>1913967</td>\n",
              "      <td>16db6b7e-176a-3a45-a31f-158a09f94630</td>\n",
              "      <td>1800-01-01</td>\n",
              "      <td>Jonathan Rosenbaum</td>\n",
              "      <td>/critics/jonathan-rosenbaum</td>\n",
              "      <td>fresh</td>\n",
              "      <td>True</td>\n",
              "      <td>False</td>\n",
              "      <td>False</td>\n",
              "      <td>True</td>\n",
              "      <td>/critics/source/66</td>\n",
              "      <td>Chicago Reader</td>\n",
              "      <td>http://www.chicagoreader.com/chicago/the-adven...</td>\n",
              "      <td>Terry Gilliam's third fantasy feature may not ...</td>\n",
              "      <td>POSITIVE</td>\n",
              "      <td>NaN</td>\n",
              "    </tr>\n",
              "    <tr>\n",
              "      <th>1</th>\n",
              "      <td>1906428</td>\n",
              "      <td>29998351-00a7-31ca-b616-6436ffe438e5</td>\n",
              "      <td>1800-01-01</td>\n",
              "      <td>Jennie Kermode</td>\n",
              "      <td>/critics/jennie-kermode</td>\n",
              "      <td>fresh</td>\n",
              "      <td>True</td>\n",
              "      <td>False</td>\n",
              "      <td>False</td>\n",
              "      <td>False</td>\n",
              "      <td>/critics/source/1869</td>\n",
              "      <td>Eye for Film</td>\n",
              "      <td>http://www.eyeforfilm.co.uk/reviews.php?id=7968</td>\n",
              "      <td>NaN</td>\n",
              "      <td>POSITIVE</td>\n",
              "      <td>3.5/5</td>\n",
              "    </tr>\n",
              "    <tr>\n",
              "      <th>2</th>\n",
              "      <td>1902262</td>\n",
              "      <td>34bf7e79-d110-3b33-93f5-d1e3b79aea10</td>\n",
              "      <td>1800-01-01</td>\n",
              "      <td>Owen Gleiberman</td>\n",
              "      <td>/critics/owen-gleiberman</td>\n",
              "      <td>fresh</td>\n",
              "      <td>True</td>\n",
              "      <td>False</td>\n",
              "      <td>False</td>\n",
              "      <td>True</td>\n",
              "      <td>/critics/source/150</td>\n",
              "      <td>Entertainment Weekly</td>\n",
              "      <td>https://ew.com/article/1993/10/15/movie-review...</td>\n",
              "      <td>Weir, working from a script by Rafael Yglesias...</td>\n",
              "      <td>POSITIVE</td>\n",
              "      <td>B</td>\n",
              "    </tr>\n",
              "    <tr>\n",
              "      <th>3</th>\n",
              "      <td>1897051</td>\n",
              "      <td>3aeb7064-f73d-32c1-8432-94babc14e6f1</td>\n",
              "      <td>1800-01-01</td>\n",
              "      <td>Owen Gleiberman</td>\n",
              "      <td>/critics/owen-gleiberman</td>\n",
              "      <td>fresh</td>\n",
              "      <td>True</td>\n",
              "      <td>False</td>\n",
              "      <td>False</td>\n",
              "      <td>True</td>\n",
              "      <td>/critics/source/150</td>\n",
              "      <td>Entertainment Weekly</td>\n",
              "      <td>http://www.ew.com/ew/article/0,,309271,00.html</td>\n",
              "      <td>Coming out from behind Spike Lee's camera, Ern...</td>\n",
              "      <td>POSITIVE</td>\n",
              "      <td>B+</td>\n",
              "    </tr>\n",
              "    <tr>\n",
              "      <th>4</th>\n",
              "      <td>1909547</td>\n",
              "      <td>3bd845e8-2e38-3504-9682-45bede2bb83c</td>\n",
              "      <td>1800-01-01</td>\n",
              "      <td>NaN</td>\n",
              "      <td>NaN</td>\n",
              "      <td>rotten</td>\n",
              "      <td>False</td>\n",
              "      <td>True</td>\n",
              "      <td>False</td>\n",
              "      <td>True</td>\n",
              "      <td>/critics/source/150</td>\n",
              "      <td>Entertainment Weekly</td>\n",
              "      <td>http://www.ew.com/ew/article/0,,318442,00.html</td>\n",
              "      <td>NaN</td>\n",
              "      <td>NEGATIVE</td>\n",
              "      <td>D+</td>\n",
              "    </tr>\n",
              "  </tbody>\n",
              "</table>\n",
              "</div>\n",
              "    <div class=\"colab-df-buttons\">\n",
              "\n",
              "  <div class=\"colab-df-container\">\n",
              "    <button class=\"colab-df-convert\" onclick=\"convertToInteractive('df-09e8b2dd-3c85-44c5-bf3a-52fee48cb0d5')\"\n",
              "            title=\"Convert this dataframe to an interactive table.\"\n",
              "            style=\"display:none;\">\n",
              "\n",
              "  <svg xmlns=\"http://www.w3.org/2000/svg\" height=\"24px\" viewBox=\"0 -960 960 960\">\n",
              "    <path d=\"M120-120v-720h720v720H120Zm60-500h600v-160H180v160Zm220 220h160v-160H400v160Zm0 220h160v-160H400v160ZM180-400h160v-160H180v160Zm440 0h160v-160H620v160ZM180-180h160v-160H180v160Zm440 0h160v-160H620v160Z\"/>\n",
              "  </svg>\n",
              "    </button>\n",
              "\n",
              "  <style>\n",
              "    .colab-df-container {\n",
              "      display:flex;\n",
              "      gap: 12px;\n",
              "    }\n",
              "\n",
              "    .colab-df-convert {\n",
              "      background-color: #E8F0FE;\n",
              "      border: none;\n",
              "      border-radius: 50%;\n",
              "      cursor: pointer;\n",
              "      display: none;\n",
              "      fill: #1967D2;\n",
              "      height: 32px;\n",
              "      padding: 0 0 0 0;\n",
              "      width: 32px;\n",
              "    }\n",
              "\n",
              "    .colab-df-convert:hover {\n",
              "      background-color: #E2EBFA;\n",
              "      box-shadow: 0px 1px 2px rgba(60, 64, 67, 0.3), 0px 1px 3px 1px rgba(60, 64, 67, 0.15);\n",
              "      fill: #174EA6;\n",
              "    }\n",
              "\n",
              "    .colab-df-buttons div {\n",
              "      margin-bottom: 4px;\n",
              "    }\n",
              "\n",
              "    [theme=dark] .colab-df-convert {\n",
              "      background-color: #3B4455;\n",
              "      fill: #D2E3FC;\n",
              "    }\n",
              "\n",
              "    [theme=dark] .colab-df-convert:hover {\n",
              "      background-color: #434B5C;\n",
              "      box-shadow: 0px 1px 3px 1px rgba(0, 0, 0, 0.15);\n",
              "      filter: drop-shadow(0px 1px 2px rgba(0, 0, 0, 0.3));\n",
              "      fill: #FFFFFF;\n",
              "    }\n",
              "  </style>\n",
              "\n",
              "    <script>\n",
              "      const buttonEl =\n",
              "        document.querySelector('#df-09e8b2dd-3c85-44c5-bf3a-52fee48cb0d5 button.colab-df-convert');\n",
              "      buttonEl.style.display =\n",
              "        google.colab.kernel.accessAllowed ? 'block' : 'none';\n",
              "\n",
              "      async function convertToInteractive(key) {\n",
              "        const element = document.querySelector('#df-09e8b2dd-3c85-44c5-bf3a-52fee48cb0d5');\n",
              "        const dataTable =\n",
              "          await google.colab.kernel.invokeFunction('convertToInteractive',\n",
              "                                                    [key], {});\n",
              "        if (!dataTable) return;\n",
              "\n",
              "        const docLinkHtml = 'Like what you see? Visit the ' +\n",
              "          '<a target=\"_blank\" href=https://colab.research.google.com/notebooks/data_table.ipynb>data table notebook</a>'\n",
              "          + ' to learn more about interactive tables.';\n",
              "        element.innerHTML = '';\n",
              "        dataTable['output_type'] = 'display_data';\n",
              "        await google.colab.output.renderOutput(dataTable, element);\n",
              "        const docLink = document.createElement('div');\n",
              "        docLink.innerHTML = docLinkHtml;\n",
              "        element.appendChild(docLink);\n",
              "      }\n",
              "    </script>\n",
              "  </div>\n",
              "\n",
              "\n",
              "<div id=\"df-9d1cdbc3-c818-474c-85cb-c56d5db968c2\">\n",
              "  <button class=\"colab-df-quickchart\" onclick=\"quickchart('df-9d1cdbc3-c818-474c-85cb-c56d5db968c2')\"\n",
              "            title=\"Suggest charts\"\n",
              "            style=\"display:none;\">\n",
              "\n",
              "<svg xmlns=\"http://www.w3.org/2000/svg\" height=\"24px\"viewBox=\"0 0 24 24\"\n",
              "     width=\"24px\">\n",
              "    <g>\n",
              "        <path d=\"M19 3H5c-1.1 0-2 .9-2 2v14c0 1.1.9 2 2 2h14c1.1 0 2-.9 2-2V5c0-1.1-.9-2-2-2zM9 17H7v-7h2v7zm4 0h-2V7h2v10zm4 0h-2v-4h2v4z\"/>\n",
              "    </g>\n",
              "</svg>\n",
              "  </button>\n",
              "\n",
              "<style>\n",
              "  .colab-df-quickchart {\n",
              "      --bg-color: #E8F0FE;\n",
              "      --fill-color: #1967D2;\n",
              "      --hover-bg-color: #E2EBFA;\n",
              "      --hover-fill-color: #174EA6;\n",
              "      --disabled-fill-color: #AAA;\n",
              "      --disabled-bg-color: #DDD;\n",
              "  }\n",
              "\n",
              "  [theme=dark] .colab-df-quickchart {\n",
              "      --bg-color: #3B4455;\n",
              "      --fill-color: #D2E3FC;\n",
              "      --hover-bg-color: #434B5C;\n",
              "      --hover-fill-color: #FFFFFF;\n",
              "      --disabled-bg-color: #3B4455;\n",
              "      --disabled-fill-color: #666;\n",
              "  }\n",
              "\n",
              "  .colab-df-quickchart {\n",
              "    background-color: var(--bg-color);\n",
              "    border: none;\n",
              "    border-radius: 50%;\n",
              "    cursor: pointer;\n",
              "    display: none;\n",
              "    fill: var(--fill-color);\n",
              "    height: 32px;\n",
              "    padding: 0;\n",
              "    width: 32px;\n",
              "  }\n",
              "\n",
              "  .colab-df-quickchart:hover {\n",
              "    background-color: var(--hover-bg-color);\n",
              "    box-shadow: 0 1px 2px rgba(60, 64, 67, 0.3), 0 1px 3px 1px rgba(60, 64, 67, 0.15);\n",
              "    fill: var(--button-hover-fill-color);\n",
              "  }\n",
              "\n",
              "  .colab-df-quickchart-complete:disabled,\n",
              "  .colab-df-quickchart-complete:disabled:hover {\n",
              "    background-color: var(--disabled-bg-color);\n",
              "    fill: var(--disabled-fill-color);\n",
              "    box-shadow: none;\n",
              "  }\n",
              "\n",
              "  .colab-df-spinner {\n",
              "    border: 2px solid var(--fill-color);\n",
              "    border-color: transparent;\n",
              "    border-bottom-color: var(--fill-color);\n",
              "    animation:\n",
              "      spin 1s steps(1) infinite;\n",
              "  }\n",
              "\n",
              "  @keyframes spin {\n",
              "    0% {\n",
              "      border-color: transparent;\n",
              "      border-bottom-color: var(--fill-color);\n",
              "      border-left-color: var(--fill-color);\n",
              "    }\n",
              "    20% {\n",
              "      border-color: transparent;\n",
              "      border-left-color: var(--fill-color);\n",
              "      border-top-color: var(--fill-color);\n",
              "    }\n",
              "    30% {\n",
              "      border-color: transparent;\n",
              "      border-left-color: var(--fill-color);\n",
              "      border-top-color: var(--fill-color);\n",
              "      border-right-color: var(--fill-color);\n",
              "    }\n",
              "    40% {\n",
              "      border-color: transparent;\n",
              "      border-right-color: var(--fill-color);\n",
              "      border-top-color: var(--fill-color);\n",
              "    }\n",
              "    60% {\n",
              "      border-color: transparent;\n",
              "      border-right-color: var(--fill-color);\n",
              "    }\n",
              "    80% {\n",
              "      border-color: transparent;\n",
              "      border-right-color: var(--fill-color);\n",
              "      border-bottom-color: var(--fill-color);\n",
              "    }\n",
              "    90% {\n",
              "      border-color: transparent;\n",
              "      border-bottom-color: var(--fill-color);\n",
              "    }\n",
              "  }\n",
              "</style>\n",
              "\n",
              "  <script>\n",
              "    async function quickchart(key) {\n",
              "      const quickchartButtonEl =\n",
              "        document.querySelector('#' + key + ' button');\n",
              "      quickchartButtonEl.disabled = true;  // To prevent multiple clicks.\n",
              "      quickchartButtonEl.classList.add('colab-df-spinner');\n",
              "      try {\n",
              "        const charts = await google.colab.kernel.invokeFunction(\n",
              "            'suggestCharts', [key], {});\n",
              "      } catch (error) {\n",
              "        console.error('Error during call to suggestCharts:', error);\n",
              "      }\n",
              "      quickchartButtonEl.classList.remove('colab-df-spinner');\n",
              "      quickchartButtonEl.classList.add('colab-df-quickchart-complete');\n",
              "    }\n",
              "    (() => {\n",
              "      let quickchartButtonEl =\n",
              "        document.querySelector('#df-9d1cdbc3-c818-474c-85cb-c56d5db968c2 button');\n",
              "      quickchartButtonEl.style.display =\n",
              "        google.colab.kernel.accessAllowed ? 'block' : 'none';\n",
              "    })();\n",
              "  </script>\n",
              "</div>\n",
              "\n",
              "    </div>\n",
              "  </div>\n"
            ],
            "application/vnd.google.colaboratory.intrinsic+json": {
              "type": "dataframe",
              "variable_name": "critic_reviews"
            }
          },
          "metadata": {},
          "execution_count": 8
        }
      ]
    },
    {
      "cell_type": "code",
      "source": [
        "critic_reviews_cleaned = critic_reviews\n",
        "critic_reviews_cleaned.columns = [camel_to_snake_manual(col) for col in critic_reviews_cleaned.columns]\n",
        "critic_reviews_cleaned.columns"
      ],
      "metadata": {
        "colab": {
          "base_uri": "https://localhost:8080/"
        },
        "id": "PnSEy0vgXYwR",
        "outputId": "0581dbf9-ecfd-4caf-e818-74fba5e25d0c"
      },
      "execution_count": 9,
      "outputs": [
        {
          "output_type": "execute_result",
          "data": {
            "text/plain": [
              "Index(['review_id', 'movie_id', 'creation_date', 'critic_name',\n",
              "       'critic_page_url', 'review_state', 'is_fresh', 'is_rotten', 'is_rt_url',\n",
              "       'is_top_critic', 'publication_url', 'publication_name', 'review_url',\n",
              "       'quote', 'score_sentiment', 'original_score'],\n",
              "      dtype='object')"
            ]
          },
          "metadata": {},
          "execution_count": 9
        }
      ]
    },
    {
      "cell_type": "code",
      "source": [
        "critic_columns_to_remove = ['critic_page_url', 'review_state', 'is_rotten', 'is_rt_url', 'publication_url', 'review_url']\n",
        "critic_reviews_cleaned = critic_reviews.drop(columns=critic_columns_to_remove)"
      ],
      "metadata": {
        "id": "Z71E6zxtVQyh"
      },
      "execution_count": 10,
      "outputs": []
    },
    {
      "cell_type": "code",
      "source": [
        "# Convert creation_date to datetime\n",
        "critic_reviews_cleaned['creation_date'] = pd.to_datetime(critic_reviews['creation_date'], errors='coerce')"
      ],
      "metadata": {
        "id": "Gx435VHLXs17"
      },
      "execution_count": 11,
      "outputs": []
    },
    {
      "cell_type": "code",
      "source": [
        "critic_reviews_cleaned.info()"
      ],
      "metadata": {
        "colab": {
          "base_uri": "https://localhost:8080/"
        },
        "id": "g56EDKOMZtGc",
        "outputId": "f4d1993f-0f95-4738-f232-5e82b99c787d"
      },
      "execution_count": 12,
      "outputs": [
        {
          "output_type": "stream",
          "name": "stdout",
          "text": [
            "<class 'pandas.core.frame.DataFrame'>\n",
            "RangeIndex: 967564 entries, 0 to 967563\n",
            "Data columns (total 10 columns):\n",
            " #   Column            Non-Null Count   Dtype         \n",
            "---  ------            --------------   -----         \n",
            " 0   review_id         967564 non-null  int64         \n",
            " 1   movie_id          967564 non-null  object        \n",
            " 2   creation_date     967564 non-null  datetime64[ns]\n",
            " 3   critic_name       958112 non-null  object        \n",
            " 4   is_fresh          967564 non-null  bool          \n",
            " 5   is_top_critic     967564 non-null  bool          \n",
            " 6   publication_name  967564 non-null  object        \n",
            " 7   quote             934601 non-null  object        \n",
            " 8   score_sentiment   967564 non-null  object        \n",
            " 9   original_score    693527 non-null  object        \n",
            "dtypes: bool(2), datetime64[ns](1), int64(1), object(6)\n",
            "memory usage: 60.9+ MB\n"
          ]
        }
      ]
    },
    {
      "cell_type": "code",
      "source": [
        "grade_mapping = {\n",
        "    'A+': 10.0, 'A': 9.5, 'A-': 9.0,\n",
        "    'B+': 8.5, 'B': 8.0, 'B-': 7.5,\n",
        "    'C+': 7.0, 'C': 6.5, 'C-': 6.0,\n",
        "    'D+': 5.5, 'D': 5.0, 'D-': 4.5,\n",
        "    'F': 2.5\n",
        "}\n",
        "\n",
        "\n",
        "critic_reviews_cleaned['standardized_score'] = critic_reviews_cleaned['original_score'].apply(convert_fraction_to_10_scale)\n",
        "\n",
        "# Step 3: Use fillna to apply letter grade mapping\n",
        "critic_reviews_cleaned['standardized_score'] = critic_reviews_cleaned['standardized_score'].fillna(\n",
        "    critic_reviews_cleaned['original_score'].replace(grade_mapping)\n",
        ")\n",
        "print(critic_reviews_cleaned[['original_score', 'standardized_score']].head())"
      ],
      "metadata": {
        "colab": {
          "base_uri": "https://localhost:8080/"
        },
        "id": "H4gzH4T6aq5y",
        "outputId": "912aef4d-4b1f-4894-d4f9-2319b33bba08"
      },
      "execution_count": 13,
      "outputs": [
        {
          "output_type": "stream",
          "name": "stdout",
          "text": [
            "  original_score standardized_score\n",
            "0            NaN                NaN\n",
            "1          3.5/5                7.0\n",
            "2              B                8.0\n",
            "3             B+                8.5\n",
            "4             D+                5.5\n"
          ]
        }
      ]
    },
    {
      "cell_type": "code",
      "source": [
        "# Convert non-numeric 'standardized_score' values to NaN\n",
        "critic_reviews_cleaned['standardized_score'] = pd.to_numeric(critic_reviews_cleaned['standardized_score'], errors='coerce')\n",
        "\n",
        "print(critic_reviews_cleaned['standardized_score'].value_counts())"
      ],
      "metadata": {
        "colab": {
          "base_uri": "https://localhost:8080/"
        },
        "id": "OZBzK_L2eWhi",
        "outputId": "c8d91ca9-197b-4e52-9d30-f590c0da8d1d"
      },
      "execution_count": 14,
      "outputs": [
        {
          "output_type": "stream",
          "name": "stdout",
          "text": [
            "standardized_score\n",
            "8.000000      107491\n",
            "6.000000       91268\n",
            "7.500000       70089\n",
            "5.000000       65641\n",
            "7.000000       52592\n",
            "               ...  \n",
            "12.000000          1\n",
            "6.880000           1\n",
            "8.474858           1\n",
            "6.783300           1\n",
            "435.000000         1\n",
            "Name: count, Length: 168, dtype: int64\n"
          ]
        }
      ]
    },
    {
      "cell_type": "code",
      "source": [
        "# Clip values to stay within the 0 to 10 range\n",
        "critic_reviews_cleaned['standardized_score'] = critic_reviews_cleaned['standardized_score'].fillna(0).clip(lower=0, upper=10).round(0).astype(int)\n",
        "\n",
        "print(critic_reviews_cleaned['standardized_score'].value_counts())"
      ],
      "metadata": {
        "colab": {
          "base_uri": "https://localhost:8080/"
        },
        "id": "CM8EaqTHn55B",
        "outputId": "36ca2719-435f-41b5-9183-484c3de95262"
      },
      "execution_count": 15,
      "outputs": [
        {
          "output_type": "stream",
          "name": "stdout",
          "text": [
            "standardized_score\n",
            "0     280016\n",
            "8     198068\n",
            "6     143651\n",
            "4      69461\n",
            "5      66202\n",
            "9      60565\n",
            "7      54208\n",
            "10     52901\n",
            "2      28950\n",
            "3       9926\n",
            "1       3616\n",
            "Name: count, dtype: int64\n"
          ]
        }
      ]
    },
    {
      "cell_type": "code",
      "source": [
        "# Remove rows where standardized_score is 0\n",
        "critic_reviews_cleaned = critic_reviews_cleaned[critic_reviews_cleaned['standardized_score'] != 0]\n",
        "\n",
        "print(critic_reviews_cleaned['standardized_score'].value_counts())\n"
      ],
      "metadata": {
        "colab": {
          "base_uri": "https://localhost:8080/"
        },
        "id": "B9TZ6myvo5PK",
        "outputId": "2661a4a9-3b57-4339-8117-a3fdf8f517e6"
      },
      "execution_count": 16,
      "outputs": [
        {
          "output_type": "stream",
          "name": "stdout",
          "text": [
            "standardized_score\n",
            "8     198068\n",
            "6     143651\n",
            "4      69461\n",
            "5      66202\n",
            "9      60565\n",
            "7      54208\n",
            "10     52901\n",
            "2      28950\n",
            "3       9926\n",
            "1       3616\n",
            "Name: count, dtype: int64\n"
          ]
        }
      ]
    },
    {
      "cell_type": "code",
      "source": [
        "critic_reviews_cleaned = critic_reviews_cleaned.drop(columns=['original_score'])"
      ],
      "metadata": {
        "id": "NOJN3UuKpEJj"
      },
      "execution_count": 17,
      "outputs": []
    },
    {
      "cell_type": "code",
      "source": [
        "critic_reviews_cleaned.info()"
      ],
      "metadata": {
        "colab": {
          "base_uri": "https://localhost:8080/"
        },
        "id": "bDByih-vpQCv",
        "outputId": "d3808576-0532-4367-b074-2800fbc69085"
      },
      "execution_count": 18,
      "outputs": [
        {
          "output_type": "stream",
          "name": "stdout",
          "text": [
            "<class 'pandas.core.frame.DataFrame'>\n",
            "Index: 687548 entries, 1 to 967561\n",
            "Data columns (total 10 columns):\n",
            " #   Column              Non-Null Count   Dtype         \n",
            "---  ------              --------------   -----         \n",
            " 0   review_id           687548 non-null  int64         \n",
            " 1   movie_id            687548 non-null  object        \n",
            " 2   creation_date       687548 non-null  datetime64[ns]\n",
            " 3   critic_name         680378 non-null  object        \n",
            " 4   is_fresh            687548 non-null  bool          \n",
            " 5   is_top_critic       687548 non-null  bool          \n",
            " 6   publication_name    687548 non-null  object        \n",
            " 7   quote               655188 non-null  object        \n",
            " 8   score_sentiment     687548 non-null  object        \n",
            " 9   standardized_score  687548 non-null  int64         \n",
            "dtypes: bool(2), datetime64[ns](1), int64(2), object(5)\n",
            "memory usage: 48.5+ MB\n"
          ]
        }
      ]
    },
    {
      "cell_type": "code",
      "source": [
        "# Fill missing critic names with 'Unknown Critic'\n",
        "critic_reviews_cleaned['critic_name'] = critic_reviews_cleaned['critic_name'].fillna('Unknown Critic')\n",
        "\n",
        "# Drop rows where 'quote' is missing\n",
        "critic_reviews_cleaned = critic_reviews_cleaned.dropna(subset=['quote'])\n",
        "\n",
        "# Extract year from 'creation_date' and ensure only reasonable years are kept\n",
        "critic_reviews_cleaned['creation_year'] = critic_reviews_cleaned['creation_date'].dt.year\n",
        "\n",
        "# Filter rows to keep only those with years from 1900 onwards\n",
        "critic_reviews_cleaned.loc[:, 'creation_year'] = critic_reviews_cleaned['creation_date'].dt.year\n",
        "\n",
        "critic_reviews_cleaned.info(), critic_reviews_cleaned['creation_year'].value_counts()\n"
      ],
      "metadata": {
        "colab": {
          "base_uri": "https://localhost:8080/"
        },
        "id": "rVMe1ZJmp2Nf",
        "outputId": "d8bf1dee-6be6-4097-89a8-2b96f25cea1f"
      },
      "execution_count": 19,
      "outputs": [
        {
          "output_type": "stream",
          "name": "stderr",
          "text": [
            "<ipython-input-19-e9c58b6db532>:8: SettingWithCopyWarning: \n",
            "A value is trying to be set on a copy of a slice from a DataFrame.\n",
            "Try using .loc[row_indexer,col_indexer] = value instead\n",
            "\n",
            "See the caveats in the documentation: https://pandas.pydata.org/pandas-docs/stable/user_guide/indexing.html#returning-a-view-versus-a-copy\n",
            "  critic_reviews_cleaned['creation_year'] = critic_reviews_cleaned['creation_date'].dt.year\n"
          ]
        },
        {
          "output_type": "stream",
          "name": "stdout",
          "text": [
            "<class 'pandas.core.frame.DataFrame'>\n",
            "Index: 655188 entries, 2 to 967561\n",
            "Data columns (total 11 columns):\n",
            " #   Column              Non-Null Count   Dtype         \n",
            "---  ------              --------------   -----         \n",
            " 0   review_id           655188 non-null  int64         \n",
            " 1   movie_id            655188 non-null  object        \n",
            " 2   creation_date       655188 non-null  datetime64[ns]\n",
            " 3   critic_name         655188 non-null  object        \n",
            " 4   is_fresh            655188 non-null  bool          \n",
            " 5   is_top_critic       655188 non-null  bool          \n",
            " 6   publication_name    655188 non-null  object        \n",
            " 7   quote               655188 non-null  object        \n",
            " 8   score_sentiment     655188 non-null  object        \n",
            " 9   standardized_score  655188 non-null  int64         \n",
            " 10  creation_year       655188 non-null  int32         \n",
            "dtypes: bool(2), datetime64[ns](1), int32(1), int64(2), object(5)\n",
            "memory usage: 48.7+ MB\n"
          ]
        },
        {
          "output_type": "execute_result",
          "data": {
            "text/plain": [
              "(None,\n",
              " creation_year\n",
              " 2019    45448\n",
              " 2018    39001\n",
              " 2021    37092\n",
              " 2022    36787\n",
              " 2023    36303\n",
              "         ...  \n",
              " 1971        1\n",
              " 1970        1\n",
              " 1967        1\n",
              " 1959        1\n",
              " 1946        1\n",
              " Name: count, Length: 80, dtype: int64)"
            ]
          },
          "metadata": {},
          "execution_count": 19
        }
      ]
    },
    {
      "cell_type": "code",
      "source": [
        "critic_reviews_cleaned = critic_reviews_cleaned.drop(columns=['creation_date'])"
      ],
      "metadata": {
        "id": "qrbGa5EbrCqb"
      },
      "execution_count": 20,
      "outputs": []
    },
    {
      "cell_type": "code",
      "source": [
        "critic_reviews_cleaned.info()"
      ],
      "metadata": {
        "colab": {
          "base_uri": "https://localhost:8080/"
        },
        "id": "_xwDSgYirNS4",
        "outputId": "071000d0-89ef-4d34-b130-867ecdfdb91c"
      },
      "execution_count": 21,
      "outputs": [
        {
          "output_type": "stream",
          "name": "stdout",
          "text": [
            "<class 'pandas.core.frame.DataFrame'>\n",
            "Index: 655188 entries, 2 to 967561\n",
            "Data columns (total 10 columns):\n",
            " #   Column              Non-Null Count   Dtype \n",
            "---  ------              --------------   ----- \n",
            " 0   review_id           655188 non-null  int64 \n",
            " 1   movie_id            655188 non-null  object\n",
            " 2   critic_name         655188 non-null  object\n",
            " 3   is_fresh            655188 non-null  bool  \n",
            " 4   is_top_critic       655188 non-null  bool  \n",
            " 5   publication_name    655188 non-null  object\n",
            " 6   quote               655188 non-null  object\n",
            " 7   score_sentiment     655188 non-null  object\n",
            " 8   standardized_score  655188 non-null  int64 \n",
            " 9   creation_year       655188 non-null  int32 \n",
            "dtypes: bool(2), int32(1), int64(2), object(5)\n",
            "memory usage: 43.7+ MB\n"
          ]
        }
      ]
    },
    {
      "cell_type": "code",
      "source": [
        "# Remove rows with duplicate review_ids, keeping the first occurrence\n",
        "critic_reviews_cleaned = critic_reviews_cleaned.drop_duplicates(subset=['review_id'], keep='first')\n",
        "\n",
        "# Verify the result by checking if any duplicates remain\n",
        "print(critic_reviews_cleaned['review_id'].duplicated().sum())  # Should return 0 if duplicates are removed"
      ],
      "metadata": {
        "colab": {
          "base_uri": "https://localhost:8080/"
        },
        "id": "MUU5DMCkrdQk",
        "outputId": "51ddb686-c064-4a66-da55-c7e404837c6e"
      },
      "execution_count": 22,
      "outputs": [
        {
          "output_type": "stream",
          "name": "stdout",
          "text": [
            "0\n"
          ]
        }
      ]
    },
    {
      "cell_type": "code",
      "source": [
        "# List of placeholder quotes to remove\n",
        "placeholders = [\"full review at Movies for the Masses\", \"full review in Greek\", \".\",\n",
        "                \"click for full review\", \"Click to read review\", \"click to read full review\",\n",
        "                \"See website for more details.\", \"click to read the full review\", \"(No quote available.)\"]\n",
        "\n",
        "# Remove rows where the quote is a placeholder\n",
        "critic_reviews_cleaned = critic_reviews_cleaned[~critic_reviews_cleaned['quote'].isin(placeholders)]\n",
        "\n",
        "# Remove very short quotes (e.g., fewer than 5 characters)\n",
        "critic_reviews_cleaned = critic_reviews_cleaned[critic_reviews_cleaned['quote'].str.len() > 5]\n",
        "\n",
        "print(critic_reviews_cleaned['quote'].value_counts())\n"
      ],
      "metadata": {
        "colab": {
          "base_uri": "https://localhost:8080/"
        },
        "id": "NXBA13V8r94B",
        "outputId": "9c502b52-ea6e-40af-cad5-8fd66d9f9767"
      },
      "execution_count": 23,
      "outputs": [
        {
          "output_type": "stream",
          "name": "stdout",
          "text": [
            "quote\n",
            "One of the best films of the year.                                                                                                                                                                                                          15\n",
            "A masterpiece.                                                                                                                                                                                                                              13\n",
            "Disappointing.                                                                                                                                                                                                                              11\n",
            "podcast review                                                                                                                                                                                                                              11\n",
            "One of the year's best films.                                                                                                                                                                                                                9\n",
            "                                                                                                                                                                                                                                            ..\n",
            "Edgy, bawdy '80s comedy not meant for kids.                                                                                                                                                                                                  1\n",
            "Mega-hit of the 1970s is a real cringer today.                                                                                                                                                                                               1\n",
            "A magic carpet ride of a movie from Disney.                                                                                                                                                                                                  1\n",
            "Scary '80s vamp film. Older teens only.                                                                                                                                                                                                      1\n",
            "It’s about how men like Louis get away with this kind of behavior—about how difficult it is for victims to respond “correctly” in the moment of the abuse and how unrewarding, if not ruinous, it is to come forward in their aftermath.     1\n",
            "Name: count, Length: 631525, dtype: int64\n"
          ]
        }
      ]
    },
    {
      "cell_type": "code",
      "source": [
        "# Save a cleaned version of critic_reviews\n",
        "critic_reviews_cleaned.to_csv('/content/drive/MyDrive/chingu/chingu_datasets/critic_reviews_cleaned.csv', index=False)"
      ],
      "metadata": {
        "id": "j3QXYJ8Xts4K"
      },
      "execution_count": 24,
      "outputs": []
    },
    {
      "cell_type": "markdown",
      "source": [
        "### Critic Reviews Analysis"
      ],
      "metadata": {
        "id": "AwW-xci7ch84"
      }
    },
    {
      "cell_type": "markdown",
      "source": [
        "## `movies`"
      ],
      "metadata": {
        "id": "V8XbjqOkb1BU"
      }
    },
    {
      "cell_type": "markdown",
      "source": [
        "#### Data Dictionary for `movies`\n",
        "\n",
        "| Column Name               | Data Type | Description                                                                                           |\n",
        "| ------------------------- | --------- | ----------------------------------------------------------------------------------------------------- |\n",
        "| `movieId`                 | object    | Unique identifier for each movie.                                                                     |\n",
        "| `movieYear`               | int64     | The year the movie was released.                                                                      |\n",
        "| `movieURL`                | object    | URL to the movie's page on Rotten Tomatoes.                                                           |\n",
        "| `movieTitle`              | object    | The title of the movie.                                                                               |\n",
        "| `critic_score`            | float64   | Average score given by critics for the movie.                                                         |\n",
        "| `critic_sentiment`        | object    | Sentiment of the critic's reviews (e.g., positive, negative, neutral).                                 |\n",
        "| `audience_score`          | float64   | Average score given by audience members for the movie.                                                |\n",
        "| `audience_sentiment`      | object    | Sentiment of audience reviews (e.g., positive, negative, neutral).                                     |\n",
        "| `release_date_theaters`   | object    | The release date of the movie in theaters.                                                            |\n",
        "| `release_date_streaming`  | object    | The release date of the movie on streaming platforms.                                                 |\n",
        "| `rating`                  | object    | The movie's rating (e.g., PG, PG-13, R).                                                              |\n",
        "| `original_language`       | object    | The original language of the movie (e.g., English, French).                                           |\n",
        "| `runtime`                 | object    | The runtime of the movie in minutes (may be stored as text in some cases, e.g., \"120 minutes\").       |"
      ],
      "metadata": {
        "id": "g55m3QzMZ3tD"
      }
    },
    {
      "cell_type": "code",
      "source": [
        "movies.info()"
      ],
      "metadata": {
        "colab": {
          "base_uri": "https://localhost:8080/"
        },
        "id": "NAPS8_cacSbI",
        "outputId": "1e1b0c58-715d-4a76-ce5a-5337c8e25e1c"
      },
      "execution_count": 25,
      "outputs": [
        {
          "output_type": "stream",
          "name": "stdout",
          "text": [
            "<class 'pandas.core.frame.DataFrame'>\n",
            "RangeIndex: 10233 entries, 0 to 10232\n",
            "Data columns (total 13 columns):\n",
            " #   Column                  Non-Null Count  Dtype  \n",
            "---  ------                  --------------  -----  \n",
            " 0   movieId                 10233 non-null  object \n",
            " 1   movieYear               10233 non-null  int64  \n",
            " 2   movieURL                10233 non-null  object \n",
            " 3   movieTitle              10233 non-null  object \n",
            " 4   critic_score            9738 non-null   float64\n",
            " 5   critic_sentiment        9738 non-null   object \n",
            " 6   audience_score          10144 non-null  float64\n",
            " 7   audience_sentiment      10144 non-null  object \n",
            " 8   release_date_theaters   7928 non-null   object \n",
            " 9   release_date_streaming  10233 non-null  object \n",
            " 10  rating                  7758 non-null   object \n",
            " 11  original_language       10214 non-null  object \n",
            " 12  runtime                 10216 non-null  object \n",
            "dtypes: float64(2), int64(1), object(10)\n",
            "memory usage: 1.0+ MB\n"
          ]
        }
      ]
    },
    {
      "cell_type": "code",
      "source": [
        "movies.head()"
      ],
      "metadata": {
        "colab": {
          "base_uri": "https://localhost:8080/",
          "height": 487
        },
        "id": "RXD1XYkzcXlJ",
        "outputId": "1cb36398-aa01-4f47-c3fd-b24a67fe8fe7"
      },
      "execution_count": 26,
      "outputs": [
        {
          "output_type": "execute_result",
          "data": {
            "text/plain": [
              "                                movieId  movieYear  \\\n",
              "0  281004c8-bbc3-3522-8246-26ee44469bb4       1902   \n",
              "1  ac173b27-b71a-34b3-9888-5304a0e165e0       1915   \n",
              "2  96f91c04-5e32-39b2-805f-4c1d1bcb3b1b       1921   \n",
              "3  b70c2dc6-41e7-3240-a38f-5f5e5018eeb1       1921   \n",
              "4  13101368-55d8-30a1-9d41-4271211defbb       1922   \n",
              "\n",
              "                                            movieURL  \\\n",
              "0  https://www.rottentomatoes.com/m/le_voyage_dan...   \n",
              "1  https://www.rottentomatoes.com/m/birth_of_a_na...   \n",
              "2  https://www.rottentomatoes.com/m/the_cabinet_o...   \n",
              "3       https://www.rottentomatoes.com/m/1052609-kid   \n",
              "4         https://www.rottentomatoes.com/m/nosferatu   \n",
              "\n",
              "                    movieTitle  critic_score critic_sentiment  audience_score  \\\n",
              "0           A Trip to the Moon         100.0         positive            90.0   \n",
              "1        The Birth of a Nation          91.0         positive            47.0   \n",
              "2  The Cabinet of Dr. Caligari          96.0         positive            89.0   \n",
              "3                      The Kid         100.0         positive            95.0   \n",
              "4                    Nosferatu          97.0         positive            87.0   \n",
              "\n",
              "  audience_sentiment   release_date_theaters release_date_streaming rating  \\\n",
              "0           positive   Oct 4, 1902, Original           Aug 27, 2016    NaN   \n",
              "1           negative       Mar 3, 1915, Wide            Jul 8, 2016    NaN   \n",
              "2           positive      Mar 19, 1921, Wide           Mar 22, 2016    NaN   \n",
              "3           positive  Jan 21, 1921, Original            Sep 2, 2016    NaN   \n",
              "4           positive   Mar 5, 1922, Original           Jul 15, 2008    NaN   \n",
              "\n",
              "  original_language runtime  \n",
              "0   French (France)     14m  \n",
              "1               NaN  3h 10m  \n",
              "2            German   1h 9m  \n",
              "3           English   1h 0m  \n",
              "4            German   1h 5m  "
            ],
            "text/html": [
              "\n",
              "  <div id=\"df-1da48f45-9242-4f3e-8be4-55883ae29868\" class=\"colab-df-container\">\n",
              "    <div>\n",
              "<style scoped>\n",
              "    .dataframe tbody tr th:only-of-type {\n",
              "        vertical-align: middle;\n",
              "    }\n",
              "\n",
              "    .dataframe tbody tr th {\n",
              "        vertical-align: top;\n",
              "    }\n",
              "\n",
              "    .dataframe thead th {\n",
              "        text-align: right;\n",
              "    }\n",
              "</style>\n",
              "<table border=\"1\" class=\"dataframe\">\n",
              "  <thead>\n",
              "    <tr style=\"text-align: right;\">\n",
              "      <th></th>\n",
              "      <th>movieId</th>\n",
              "      <th>movieYear</th>\n",
              "      <th>movieURL</th>\n",
              "      <th>movieTitle</th>\n",
              "      <th>critic_score</th>\n",
              "      <th>critic_sentiment</th>\n",
              "      <th>audience_score</th>\n",
              "      <th>audience_sentiment</th>\n",
              "      <th>release_date_theaters</th>\n",
              "      <th>release_date_streaming</th>\n",
              "      <th>rating</th>\n",
              "      <th>original_language</th>\n",
              "      <th>runtime</th>\n",
              "    </tr>\n",
              "  </thead>\n",
              "  <tbody>\n",
              "    <tr>\n",
              "      <th>0</th>\n",
              "      <td>281004c8-bbc3-3522-8246-26ee44469bb4</td>\n",
              "      <td>1902</td>\n",
              "      <td>https://www.rottentomatoes.com/m/le_voyage_dan...</td>\n",
              "      <td>A Trip to the Moon</td>\n",
              "      <td>100.0</td>\n",
              "      <td>positive</td>\n",
              "      <td>90.0</td>\n",
              "      <td>positive</td>\n",
              "      <td>Oct 4, 1902, Original</td>\n",
              "      <td>Aug 27, 2016</td>\n",
              "      <td>NaN</td>\n",
              "      <td>French (France)</td>\n",
              "      <td>14m</td>\n",
              "    </tr>\n",
              "    <tr>\n",
              "      <th>1</th>\n",
              "      <td>ac173b27-b71a-34b3-9888-5304a0e165e0</td>\n",
              "      <td>1915</td>\n",
              "      <td>https://www.rottentomatoes.com/m/birth_of_a_na...</td>\n",
              "      <td>The Birth of a Nation</td>\n",
              "      <td>91.0</td>\n",
              "      <td>positive</td>\n",
              "      <td>47.0</td>\n",
              "      <td>negative</td>\n",
              "      <td>Mar 3, 1915, Wide</td>\n",
              "      <td>Jul 8, 2016</td>\n",
              "      <td>NaN</td>\n",
              "      <td>NaN</td>\n",
              "      <td>3h 10m</td>\n",
              "    </tr>\n",
              "    <tr>\n",
              "      <th>2</th>\n",
              "      <td>96f91c04-5e32-39b2-805f-4c1d1bcb3b1b</td>\n",
              "      <td>1921</td>\n",
              "      <td>https://www.rottentomatoes.com/m/the_cabinet_o...</td>\n",
              "      <td>The Cabinet of Dr. Caligari</td>\n",
              "      <td>96.0</td>\n",
              "      <td>positive</td>\n",
              "      <td>89.0</td>\n",
              "      <td>positive</td>\n",
              "      <td>Mar 19, 1921, Wide</td>\n",
              "      <td>Mar 22, 2016</td>\n",
              "      <td>NaN</td>\n",
              "      <td>German</td>\n",
              "      <td>1h 9m</td>\n",
              "    </tr>\n",
              "    <tr>\n",
              "      <th>3</th>\n",
              "      <td>b70c2dc6-41e7-3240-a38f-5f5e5018eeb1</td>\n",
              "      <td>1921</td>\n",
              "      <td>https://www.rottentomatoes.com/m/1052609-kid</td>\n",
              "      <td>The Kid</td>\n",
              "      <td>100.0</td>\n",
              "      <td>positive</td>\n",
              "      <td>95.0</td>\n",
              "      <td>positive</td>\n",
              "      <td>Jan 21, 1921, Original</td>\n",
              "      <td>Sep 2, 2016</td>\n",
              "      <td>NaN</td>\n",
              "      <td>English</td>\n",
              "      <td>1h 0m</td>\n",
              "    </tr>\n",
              "    <tr>\n",
              "      <th>4</th>\n",
              "      <td>13101368-55d8-30a1-9d41-4271211defbb</td>\n",
              "      <td>1922</td>\n",
              "      <td>https://www.rottentomatoes.com/m/nosferatu</td>\n",
              "      <td>Nosferatu</td>\n",
              "      <td>97.0</td>\n",
              "      <td>positive</td>\n",
              "      <td>87.0</td>\n",
              "      <td>positive</td>\n",
              "      <td>Mar 5, 1922, Original</td>\n",
              "      <td>Jul 15, 2008</td>\n",
              "      <td>NaN</td>\n",
              "      <td>German</td>\n",
              "      <td>1h 5m</td>\n",
              "    </tr>\n",
              "  </tbody>\n",
              "</table>\n",
              "</div>\n",
              "    <div class=\"colab-df-buttons\">\n",
              "\n",
              "  <div class=\"colab-df-container\">\n",
              "    <button class=\"colab-df-convert\" onclick=\"convertToInteractive('df-1da48f45-9242-4f3e-8be4-55883ae29868')\"\n",
              "            title=\"Convert this dataframe to an interactive table.\"\n",
              "            style=\"display:none;\">\n",
              "\n",
              "  <svg xmlns=\"http://www.w3.org/2000/svg\" height=\"24px\" viewBox=\"0 -960 960 960\">\n",
              "    <path d=\"M120-120v-720h720v720H120Zm60-500h600v-160H180v160Zm220 220h160v-160H400v160Zm0 220h160v-160H400v160ZM180-400h160v-160H180v160Zm440 0h160v-160H620v160ZM180-180h160v-160H180v160Zm440 0h160v-160H620v160Z\"/>\n",
              "  </svg>\n",
              "    </button>\n",
              "\n",
              "  <style>\n",
              "    .colab-df-container {\n",
              "      display:flex;\n",
              "      gap: 12px;\n",
              "    }\n",
              "\n",
              "    .colab-df-convert {\n",
              "      background-color: #E8F0FE;\n",
              "      border: none;\n",
              "      border-radius: 50%;\n",
              "      cursor: pointer;\n",
              "      display: none;\n",
              "      fill: #1967D2;\n",
              "      height: 32px;\n",
              "      padding: 0 0 0 0;\n",
              "      width: 32px;\n",
              "    }\n",
              "\n",
              "    .colab-df-convert:hover {\n",
              "      background-color: #E2EBFA;\n",
              "      box-shadow: 0px 1px 2px rgba(60, 64, 67, 0.3), 0px 1px 3px 1px rgba(60, 64, 67, 0.15);\n",
              "      fill: #174EA6;\n",
              "    }\n",
              "\n",
              "    .colab-df-buttons div {\n",
              "      margin-bottom: 4px;\n",
              "    }\n",
              "\n",
              "    [theme=dark] .colab-df-convert {\n",
              "      background-color: #3B4455;\n",
              "      fill: #D2E3FC;\n",
              "    }\n",
              "\n",
              "    [theme=dark] .colab-df-convert:hover {\n",
              "      background-color: #434B5C;\n",
              "      box-shadow: 0px 1px 3px 1px rgba(0, 0, 0, 0.15);\n",
              "      filter: drop-shadow(0px 1px 2px rgba(0, 0, 0, 0.3));\n",
              "      fill: #FFFFFF;\n",
              "    }\n",
              "  </style>\n",
              "\n",
              "    <script>\n",
              "      const buttonEl =\n",
              "        document.querySelector('#df-1da48f45-9242-4f3e-8be4-55883ae29868 button.colab-df-convert');\n",
              "      buttonEl.style.display =\n",
              "        google.colab.kernel.accessAllowed ? 'block' : 'none';\n",
              "\n",
              "      async function convertToInteractive(key) {\n",
              "        const element = document.querySelector('#df-1da48f45-9242-4f3e-8be4-55883ae29868');\n",
              "        const dataTable =\n",
              "          await google.colab.kernel.invokeFunction('convertToInteractive',\n",
              "                                                    [key], {});\n",
              "        if (!dataTable) return;\n",
              "\n",
              "        const docLinkHtml = 'Like what you see? Visit the ' +\n",
              "          '<a target=\"_blank\" href=https://colab.research.google.com/notebooks/data_table.ipynb>data table notebook</a>'\n",
              "          + ' to learn more about interactive tables.';\n",
              "        element.innerHTML = '';\n",
              "        dataTable['output_type'] = 'display_data';\n",
              "        await google.colab.output.renderOutput(dataTable, element);\n",
              "        const docLink = document.createElement('div');\n",
              "        docLink.innerHTML = docLinkHtml;\n",
              "        element.appendChild(docLink);\n",
              "      }\n",
              "    </script>\n",
              "  </div>\n",
              "\n",
              "\n",
              "<div id=\"df-c83b0363-11a0-4c43-be31-993966af16b4\">\n",
              "  <button class=\"colab-df-quickchart\" onclick=\"quickchart('df-c83b0363-11a0-4c43-be31-993966af16b4')\"\n",
              "            title=\"Suggest charts\"\n",
              "            style=\"display:none;\">\n",
              "\n",
              "<svg xmlns=\"http://www.w3.org/2000/svg\" height=\"24px\"viewBox=\"0 0 24 24\"\n",
              "     width=\"24px\">\n",
              "    <g>\n",
              "        <path d=\"M19 3H5c-1.1 0-2 .9-2 2v14c0 1.1.9 2 2 2h14c1.1 0 2-.9 2-2V5c0-1.1-.9-2-2-2zM9 17H7v-7h2v7zm4 0h-2V7h2v10zm4 0h-2v-4h2v4z\"/>\n",
              "    </g>\n",
              "</svg>\n",
              "  </button>\n",
              "\n",
              "<style>\n",
              "  .colab-df-quickchart {\n",
              "      --bg-color: #E8F0FE;\n",
              "      --fill-color: #1967D2;\n",
              "      --hover-bg-color: #E2EBFA;\n",
              "      --hover-fill-color: #174EA6;\n",
              "      --disabled-fill-color: #AAA;\n",
              "      --disabled-bg-color: #DDD;\n",
              "  }\n",
              "\n",
              "  [theme=dark] .colab-df-quickchart {\n",
              "      --bg-color: #3B4455;\n",
              "      --fill-color: #D2E3FC;\n",
              "      --hover-bg-color: #434B5C;\n",
              "      --hover-fill-color: #FFFFFF;\n",
              "      --disabled-bg-color: #3B4455;\n",
              "      --disabled-fill-color: #666;\n",
              "  }\n",
              "\n",
              "  .colab-df-quickchart {\n",
              "    background-color: var(--bg-color);\n",
              "    border: none;\n",
              "    border-radius: 50%;\n",
              "    cursor: pointer;\n",
              "    display: none;\n",
              "    fill: var(--fill-color);\n",
              "    height: 32px;\n",
              "    padding: 0;\n",
              "    width: 32px;\n",
              "  }\n",
              "\n",
              "  .colab-df-quickchart:hover {\n",
              "    background-color: var(--hover-bg-color);\n",
              "    box-shadow: 0 1px 2px rgba(60, 64, 67, 0.3), 0 1px 3px 1px rgba(60, 64, 67, 0.15);\n",
              "    fill: var(--button-hover-fill-color);\n",
              "  }\n",
              "\n",
              "  .colab-df-quickchart-complete:disabled,\n",
              "  .colab-df-quickchart-complete:disabled:hover {\n",
              "    background-color: var(--disabled-bg-color);\n",
              "    fill: var(--disabled-fill-color);\n",
              "    box-shadow: none;\n",
              "  }\n",
              "\n",
              "  .colab-df-spinner {\n",
              "    border: 2px solid var(--fill-color);\n",
              "    border-color: transparent;\n",
              "    border-bottom-color: var(--fill-color);\n",
              "    animation:\n",
              "      spin 1s steps(1) infinite;\n",
              "  }\n",
              "\n",
              "  @keyframes spin {\n",
              "    0% {\n",
              "      border-color: transparent;\n",
              "      border-bottom-color: var(--fill-color);\n",
              "      border-left-color: var(--fill-color);\n",
              "    }\n",
              "    20% {\n",
              "      border-color: transparent;\n",
              "      border-left-color: var(--fill-color);\n",
              "      border-top-color: var(--fill-color);\n",
              "    }\n",
              "    30% {\n",
              "      border-color: transparent;\n",
              "      border-left-color: var(--fill-color);\n",
              "      border-top-color: var(--fill-color);\n",
              "      border-right-color: var(--fill-color);\n",
              "    }\n",
              "    40% {\n",
              "      border-color: transparent;\n",
              "      border-right-color: var(--fill-color);\n",
              "      border-top-color: var(--fill-color);\n",
              "    }\n",
              "    60% {\n",
              "      border-color: transparent;\n",
              "      border-right-color: var(--fill-color);\n",
              "    }\n",
              "    80% {\n",
              "      border-color: transparent;\n",
              "      border-right-color: var(--fill-color);\n",
              "      border-bottom-color: var(--fill-color);\n",
              "    }\n",
              "    90% {\n",
              "      border-color: transparent;\n",
              "      border-bottom-color: var(--fill-color);\n",
              "    }\n",
              "  }\n",
              "</style>\n",
              "\n",
              "  <script>\n",
              "    async function quickchart(key) {\n",
              "      const quickchartButtonEl =\n",
              "        document.querySelector('#' + key + ' button');\n",
              "      quickchartButtonEl.disabled = true;  // To prevent multiple clicks.\n",
              "      quickchartButtonEl.classList.add('colab-df-spinner');\n",
              "      try {\n",
              "        const charts = await google.colab.kernel.invokeFunction(\n",
              "            'suggestCharts', [key], {});\n",
              "      } catch (error) {\n",
              "        console.error('Error during call to suggestCharts:', error);\n",
              "      }\n",
              "      quickchartButtonEl.classList.remove('colab-df-spinner');\n",
              "      quickchartButtonEl.classList.add('colab-df-quickchart-complete');\n",
              "    }\n",
              "    (() => {\n",
              "      let quickchartButtonEl =\n",
              "        document.querySelector('#df-c83b0363-11a0-4c43-be31-993966af16b4 button');\n",
              "      quickchartButtonEl.style.display =\n",
              "        google.colab.kernel.accessAllowed ? 'block' : 'none';\n",
              "    })();\n",
              "  </script>\n",
              "</div>\n",
              "\n",
              "    </div>\n",
              "  </div>\n"
            ],
            "application/vnd.google.colaboratory.intrinsic+json": {
              "type": "dataframe",
              "variable_name": "movies",
              "summary": "{\n  \"name\": \"movies\",\n  \"rows\": 10233,\n  \"fields\": [\n    {\n      \"column\": \"movieId\",\n      \"properties\": {\n        \"dtype\": \"string\",\n        \"num_unique_values\": 10233,\n        \"samples\": [\n          \"c44b12f3-5074-38c0-b987-8ce96e0a6d2e\",\n          \"8b475161-4793-3fe4-9161-38ce25d33645\",\n          \"d2b2c5ff-92b6-326e-97e4-185e26ad3a50\"\n        ],\n        \"semantic_type\": \"\",\n        \"description\": \"\"\n      }\n    },\n    {\n      \"column\": \"movieYear\",\n      \"properties\": {\n        \"dtype\": \"number\",\n        \"std\": 16,\n        \"min\": 1902,\n        \"max\": 2024,\n        \"num_unique_values\": 105,\n        \"samples\": [\n          1950,\n          1985,\n          1984\n        ],\n        \"semantic_type\": \"\",\n        \"description\": \"\"\n      }\n    },\n    {\n      \"column\": \"movieURL\",\n      \"properties\": {\n        \"dtype\": \"string\",\n        \"num_unique_values\": 10233,\n        \"samples\": [\n          \"https://www.rottentomatoes.com/m/never_back_down\",\n          \"https://www.rottentomatoes.com/m/andrei_rublev\",\n          \"https://www.rottentomatoes.com/m/i_heart_huckabees\"\n        ],\n        \"semantic_type\": \"\",\n        \"description\": \"\"\n      }\n    },\n    {\n      \"column\": \"movieTitle\",\n      \"properties\": {\n        \"dtype\": \"string\",\n        \"num_unique_values\": 9857,\n        \"samples\": [\n          \"The Takedown\",\n          \"Harold and Maude\",\n          \"Shooting Stars\"\n        ],\n        \"semantic_type\": \"\",\n        \"description\": \"\"\n      }\n    },\n    {\n      \"column\": \"critic_score\",\n      \"properties\": {\n        \"dtype\": \"number\",\n        \"std\": 27.91865262039142,\n        \"min\": 0.0,\n        \"max\": 100.0,\n        \"num_unique_values\": 101,\n        \"samples\": [\n          10.0,\n          43.0,\n          11.0\n        ],\n        \"semantic_type\": \"\",\n        \"description\": \"\"\n      }\n    },\n    {\n      \"column\": \"critic_sentiment\",\n      \"properties\": {\n        \"dtype\": \"category\",\n        \"num_unique_values\": 2,\n        \"samples\": [\n          \"negative\",\n          \"positive\"\n        ],\n        \"semantic_type\": \"\",\n        \"description\": \"\"\n      }\n    },\n    {\n      \"column\": \"audience_score\",\n      \"properties\": {\n        \"dtype\": \"number\",\n        \"std\": 20.85482459049245,\n        \"min\": 0.0,\n        \"max\": 100.0,\n        \"num_unique_values\": 98,\n        \"samples\": [\n          53.0,\n          75.0\n        ],\n        \"semantic_type\": \"\",\n        \"description\": \"\"\n      }\n    },\n    {\n      \"column\": \"audience_sentiment\",\n      \"properties\": {\n        \"dtype\": \"category\",\n        \"num_unique_values\": 2,\n        \"samples\": [\n          \"negative\",\n          \"positive\"\n        ],\n        \"semantic_type\": \"\",\n        \"description\": \"\"\n      }\n    },\n    {\n      \"column\": \"release_date_theaters\",\n      \"properties\": {\n        \"dtype\": \"category\",\n        \"num_unique_values\": 4430,\n        \"samples\": [\n          \"Dec 5, 2008, Wide\",\n          \"Jun 17, 1983, Original\"\n        ],\n        \"semantic_type\": \"\",\n        \"description\": \"\"\n      }\n    },\n    {\n      \"column\": \"release_date_streaming\",\n      \"properties\": {\n        \"dtype\": \"object\",\n        \"num_unique_values\": 2679,\n        \"samples\": [\n          \"Nov 19, 2013\",\n          \"Jul 12, 2017\"\n        ],\n        \"semantic_type\": \"\",\n        \"description\": \"\"\n      }\n    },\n    {\n      \"column\": \"rating\",\n      \"properties\": {\n        \"dtype\": \"category\",\n        \"num_unique_values\": 4259,\n        \"samples\": [\n          \"PG-13 (Language|Brief Violence|Mature Themes|Sexual Situations)\",\n          \"PG (Some Violence and Action)\"\n        ],\n        \"semantic_type\": \"\",\n        \"description\": \"\"\n      }\n    },\n    {\n      \"column\": \"original_language\",\n      \"properties\": {\n        \"dtype\": \"category\",\n        \"num_unique_values\": 71,\n        \"samples\": [\n          \"Hindi\",\n          \"French (France)\"\n        ],\n        \"semantic_type\": \"\",\n        \"description\": \"\"\n      }\n    },\n    {\n      \"column\": \"runtime\",\n      \"properties\": {\n        \"dtype\": \"category\",\n        \"num_unique_values\": 182,\n        \"samples\": [\n          \"1h 3m\",\n          \"1h 59m\"\n        ],\n        \"semantic_type\": \"\",\n        \"description\": \"\"\n      }\n    }\n  ]\n}"
            }
          },
          "metadata": {},
          "execution_count": 26
        }
      ]
    },
    {
      "cell_type": "code",
      "source": [
        "movies_cleaned = movies\n",
        "movies_cleaned = movies_cleaned.drop(columns='movieURL')\n",
        "movies_cleaned.columns = [camel_to_snake_manual(col) for col in movies_cleaned.columns]\n",
        "print(movies_cleaned.columns)"
      ],
      "metadata": {
        "colab": {
          "base_uri": "https://localhost:8080/"
        },
        "id": "U2hUBTX0pKgo",
        "outputId": "6e4835a7-175a-43c2-a5af-a6f1d64fc1a3"
      },
      "execution_count": 27,
      "outputs": [
        {
          "output_type": "stream",
          "name": "stdout",
          "text": [
            "Index(['movie_id', 'movie_year', 'movie_title', 'critic_score',\n",
            "       'critic_sentiment', 'audience_score', 'audience_sentiment',\n",
            "       'release_date_theaters', 'release_date_streaming', 'rating',\n",
            "       'original_language', 'runtime'],\n",
            "      dtype='object')\n"
          ]
        }
      ]
    },
    {
      "cell_type": "code",
      "source": [
        "# Fill missing critic_score and audience_score with mean\n",
        "movies_cleaned['critic_score'].fillna(movies_cleaned['critic_score'].mean(), inplace=True)\n",
        "movies_cleaned['audience_score'].fillna(movies_cleaned['audience_score'].mean(), inplace=True)\n",
        "\n",
        "# Fill missing critic_sentiment and audience_sentiment with 'unknown'\n",
        "movies_cleaned['critic_sentiment'].fillna('unknown', inplace=True)\n",
        "movies_cleaned['audience_sentiment'].fillna('unknown', inplace=True)\n",
        "\n",
        "#  Fill missing rating with 'unknown'\n",
        "movies_cleaned['rating'].fillna('unknown', inplace=True)"
      ],
      "metadata": {
        "id": "533r8429OuQs"
      },
      "execution_count": 28,
      "outputs": []
    },
    {
      "cell_type": "code",
      "source": [
        "# Extract the year from 'release_date_theaters'\n",
        "movies_cleaned['release_year_theaters'] = movies_cleaned['release_date_theaters'].str.extract(r'(\\d{4})')\n",
        "\n",
        "# Convert the extracted year to numeric\n",
        "movies_cleaned['release_year_theaters'] = pd.to_numeric(movies_cleaned['release_year_theaters'], errors='coerce')\n",
        "\n",
        "# Convert 'release_year_theaters' to integer\n",
        "movies_cleaned['release_year_theaters'] = movies_cleaned['release_year_theaters'].astype('Int64')\n",
        "\n",
        "movies_cleaned = movies_cleaned.drop(columns='release_date_theaters')\n",
        "print(movies_cleaned['release_year_theaters'].head())"
      ],
      "metadata": {
        "colab": {
          "base_uri": "https://localhost:8080/"
        },
        "id": "zmMDviA-qoqE",
        "outputId": "3d682bc0-9e3c-4283-a854-cbbb03fd9618"
      },
      "execution_count": 29,
      "outputs": [
        {
          "output_type": "stream",
          "name": "stdout",
          "text": [
            "0    1902\n",
            "1    1915\n",
            "2    1921\n",
            "3    1921\n",
            "4    1922\n",
            "Name: release_year_theaters, dtype: Int64\n"
          ]
        }
      ]
    },
    {
      "cell_type": "code",
      "source": [
        "# Extract the year from 'release_date_streaming'\n",
        "movies_cleaned['release_year_streaming'] = pd.to_datetime(movies_cleaned['release_date_streaming'], errors='coerce').dt.year\n",
        "movies_cleaned = movies_cleaned.drop(columns='release_date_streaming')\n"
      ],
      "metadata": {
        "id": "ih5ASyESul57"
      },
      "execution_count": 30,
      "outputs": []
    },
    {
      "cell_type": "code",
      "source": [
        "# Round the critic scores to the nearest integer\n",
        "movies_cleaned['critic_score'] = movies_cleaned['critic_score'].round(0).astype('Int64')\n",
        "\n",
        "print(movies_cleaned['critic_score'].value_counts())"
      ],
      "metadata": {
        "colab": {
          "base_uri": "https://localhost:8080/"
        },
        "id": "Dzh1BFl0vH7R",
        "outputId": "0d204012-9aac-4baa-df8e-e32dff633c13"
      },
      "execution_count": 31,
      "outputs": [
        {
          "output_type": "stream",
          "name": "stdout",
          "text": [
            "critic_score\n",
            "64     588\n",
            "100    448\n",
            "91     213\n",
            "92     208\n",
            "90     207\n",
            "      ... \n",
            "6       22\n",
            "5       20\n",
            "3       11\n",
            "2        6\n",
            "1        4\n",
            "Name: count, Length: 101, dtype: Int64\n"
          ]
        }
      ]
    },
    {
      "cell_type": "code",
      "source": [
        "# Impute sentiment based on critic score\n",
        "movies_cleaned.loc[(movies_cleaned['critic_sentiment'] == 'unknown') & (movies_cleaned['critic_score'] >= 70), 'critic_sentiment'] = 'positive'\n",
        "movies_cleaned.loc[(movies_cleaned['critic_sentiment'] == 'unknown') & (movies_cleaned['critic_score'] < 70), 'critic_sentiment'] = 'negative'\n",
        "movies_cleaned['critic_sentiment'].value_counts()"
      ],
      "metadata": {
        "colab": {
          "base_uri": "https://localhost:8080/",
          "height": 178
        },
        "id": "mHd5lTPAtfAZ",
        "outputId": "459f66ea-23b6-462e-ca09-63963541bdf8"
      },
      "execution_count": 32,
      "outputs": [
        {
          "output_type": "execute_result",
          "data": {
            "text/plain": [
              "critic_sentiment\n",
              "positive    5925\n",
              "negative    4308\n",
              "Name: count, dtype: int64"
            ],
            "text/html": [
              "<div>\n",
              "<style scoped>\n",
              "    .dataframe tbody tr th:only-of-type {\n",
              "        vertical-align: middle;\n",
              "    }\n",
              "\n",
              "    .dataframe tbody tr th {\n",
              "        vertical-align: top;\n",
              "    }\n",
              "\n",
              "    .dataframe thead th {\n",
              "        text-align: right;\n",
              "    }\n",
              "</style>\n",
              "<table border=\"1\" class=\"dataframe\">\n",
              "  <thead>\n",
              "    <tr style=\"text-align: right;\">\n",
              "      <th></th>\n",
              "      <th>count</th>\n",
              "    </tr>\n",
              "    <tr>\n",
              "      <th>critic_sentiment</th>\n",
              "      <th></th>\n",
              "    </tr>\n",
              "  </thead>\n",
              "  <tbody>\n",
              "    <tr>\n",
              "      <th>positive</th>\n",
              "      <td>5925</td>\n",
              "    </tr>\n",
              "    <tr>\n",
              "      <th>negative</th>\n",
              "      <td>4308</td>\n",
              "    </tr>\n",
              "  </tbody>\n",
              "</table>\n",
              "</div><br><label><b>dtype:</b> int64</label>"
            ]
          },
          "metadata": {},
          "execution_count": 32
        }
      ]
    },
    {
      "cell_type": "code",
      "source": [
        "# Impute audience scores based on sentiment\n",
        "movies_cleaned.loc[(movies_cleaned['audience_sentiment'] == 'positive') & (movies_cleaned['audience_score'].isna()), 'audience_score'] = movies_cleaned[movies_cleaned['audience_sentiment'] == 'positive']['audience_score'].mean()\n",
        "movies_cleaned.loc[(movies_cleaned['audience_sentiment'] == 'negative') & (movies_cleaned['audience_score'].isna()), 'audience_score'] = movies_cleaned[movies_cleaned['audience_sentiment'] == 'negative']['audience_score'].mean()\n",
        "\n",
        "# Round the audience scores to the nearest integer\n",
        "movies_cleaned['audience_score'] = movies_cleaned['audience_score'].round(0).astype('Int64')\n"
      ],
      "metadata": {
        "id": "ES-WsTWAxF4-"
      },
      "execution_count": 33,
      "outputs": []
    },
    {
      "cell_type": "code",
      "source": [
        "# Extract only the main rating from 'rating'\n",
        "movies_cleaned['rating'] = movies_cleaned['rating'].str.extract(r'([A-Z]+(?:-[0-9]+)?)')\n",
        "\n",
        "print(movies_cleaned['rating'].value_counts())"
      ],
      "metadata": {
        "colab": {
          "base_uri": "https://localhost:8080/"
        },
        "id": "ZgCbV6KpyK35",
        "outputId": "2be031e5-c666-46b6-834a-ced674351534"
      },
      "execution_count": 34,
      "outputs": [
        {
          "output_type": "stream",
          "name": "stdout",
          "text": [
            "rating\n",
            "R        3937\n",
            "PG-13    2154\n",
            "PG       1245\n",
            "G         244\n",
            "TV         97\n",
            "TV-14      54\n",
            "NC-17      27\n",
            "Name: count, dtype: int64\n"
          ]
        }
      ]
    },
    {
      "cell_type": "code",
      "source": [
        "# Standardize variations of English\n",
        "movies_cleaned['original_language'] = movies_cleaned['original_language'].replace({\n",
        "    'English (United Kingdom)': 'English',\n",
        "    'English (Australia)': 'English',\n",
        "    'British English': 'English',\n",
        "    'Australian English': 'English'\n",
        "})\n",
        "\n",
        "# Standardize variations of Portuguese\n",
        "movies_cleaned['original_language'] = movies_cleaned['original_language'].replace({\n",
        "    'Portuguese (Brazil)': 'Portuguese',\n",
        "    'Brazilian Portuguese': 'Portuguese'\n",
        "})\n",
        "\n",
        "# Standardize variations of French\n",
        "movies_cleaned['original_language'] = movies_cleaned['original_language'].replace({\n",
        "    'French (France)': 'French',\n",
        "    'French (Canada)': 'French',\n",
        "    'Canadian French': 'French'\n",
        "})\n",
        "# Replace 'Unknown language' with 'Unknown'\n",
        "movies_cleaned['original_language'] = movies_cleaned['original_language'].replace('Unknown language', 'Unknown')\n",
        "\n",
        "# Optionally, fill NaN values with 'Unknown'\n",
        "movies_cleaned['original_language'].fillna('Unknown', inplace=True)"
      ],
      "metadata": {
        "id": "5RHlyekcyui9"
      },
      "execution_count": 35,
      "outputs": []
    },
    {
      "cell_type": "code",
      "source": [
        "# Function to convert runtime strings to total minutes\n",
        "def convert_runtime_to_minutes(runtime):\n",
        "    if isinstance(runtime, str):\n",
        "        hours = 0\n",
        "        minutes = 0\n",
        "        if 'h' in runtime:\n",
        "            parts = runtime.split('h')\n",
        "            hours = int(parts[0].strip()) * 60  # Convert hours to minutes\n",
        "            if 'm' in parts[1]:\n",
        "                minutes = int(parts[1].strip('m').strip())  # Extract minutes\n",
        "        elif 'm' in runtime:\n",
        "            minutes = int(runtime.strip('m').strip())  # Only minutes\n",
        "        return hours + minutes\n",
        "    return None  # For missing or NaN values\n",
        "\n",
        "# Apply the conversion function to create the new column\n",
        "movies_cleaned['runtime_in_minutes'] = movies_cleaned['runtime'].apply(convert_runtime_to_minutes)\n",
        "# Round the runtime_in_minutes to the nearest integer\n",
        "movies_cleaned['runtime_in_minutes'] = movies_cleaned['runtime_in_minutes'].round(0).astype('Int64')\n",
        "\n",
        "movies_cleaned = movies_cleaned.drop(columns='runtime')"
      ],
      "metadata": {
        "id": "HVVfybU8zeC1"
      },
      "execution_count": 36,
      "outputs": []
    },
    {
      "cell_type": "code",
      "source": [
        "# Save a cleaned version of movies\n",
        "movies_cleaned.to_csv('/content/drive/MyDrive/chingu/chingu_datasets/movies_cleaned.csv', index=False)"
      ],
      "metadata": {
        "id": "WWNBgIYL0-fA"
      },
      "execution_count": 37,
      "outputs": []
    },
    {
      "cell_type": "markdown",
      "source": [
        "### Movies analysis"
      ],
      "metadata": {
        "id": "bNBY-LvKcVTT"
      }
    },
    {
      "cell_type": "markdown",
      "source": [
        "## `user_reviews`"
      ],
      "metadata": {
        "id": "UyYej6Zmb7BL"
      }
    },
    {
      "cell_type": "markdown",
      "source": [
        "#### Data Dictionary for `user_reviews`\n",
        "\n",
        "| Column Name       | Data Type | Description                                                                                                 |\n",
        "| ----------------- | --------- | ----------------------------------------------------------------------------------------------------------- |\n",
        "| `movieId`         | object    | Unique identifier for each movie.                                                                           |\n",
        "| `rating`          | float64   | The rating provided by the user for the movie.                                                              |\n",
        "| `quote`           | object    | The text content of the user review (a short quote or description of their thoughts).                       |\n",
        "| `reviewId`        | object    | Unique identifier for each user review (may be null or missing in some cases).                              |\n",
        "| `isVerified`      | bool      | Indicates whether the review was written by a verified user.                                                |\n",
        "| `isSuperReviewer` | bool      | Indicates whether the user is a \"super reviewer\" (a frequent or influential reviewer).                      |\n",
        "| `hasSpoilers`     | bool      | Indicates whether the review contains spoilers.                                                             |\n",
        "| `hasProfanity`    | bool      | Indicates whether the review contains profanity.                                                            |\n",
        "| `score`           | float64   | The numeric score (possibly the same as the rating) given by the user.                                      |\n",
        "| `creationDate`    | object    | The date when the user review was created.                                                                  |\n",
        "| `userDisplayName` | object    | The display name of the user (may be missing or null in some cases).                                        |\n",
        "| `userRealm`       | object    | A field indicating the platform or realm of the user (e.g., \"RT\" for Rotten Tomatoes).                      |\n",
        "| `userId`          | object    | Unique identifier for the user who wrote the review.                                                        |"
      ],
      "metadata": {
        "id": "2BOxFPa1abG9"
      }
    },
    {
      "cell_type": "code",
      "source": [
        "sampled_user_reviews.info()"
      ],
      "metadata": {
        "colab": {
          "base_uri": "https://localhost:8080/"
        },
        "id": "JgMy-otocd5v",
        "outputId": "2a11654d-bfb9-4e1f-b614-6aeb1cd877e4"
      },
      "execution_count": 38,
      "outputs": [
        {
          "output_type": "stream",
          "name": "stdout",
          "text": [
            "<class 'pandas.core.frame.DataFrame'>\n",
            "RangeIndex: 1000000 entries, 0 to 999999\n",
            "Data columns (total 13 columns):\n",
            " #   Column           Non-Null Count    Dtype  \n",
            "---  ------           --------------    -----  \n",
            " 0   movieId          1000000 non-null  object \n",
            " 1   rating           1000000 non-null  float64\n",
            " 2   quote            1000000 non-null  object \n",
            " 3   reviewId         2884 non-null     object \n",
            " 4   isVerified       1000000 non-null  bool   \n",
            " 5   isSuperReviewer  1000000 non-null  bool   \n",
            " 6   hasSpoilers      1000000 non-null  bool   \n",
            " 7   hasProfanity     1000000 non-null  bool   \n",
            " 8   score            1000000 non-null  float64\n",
            " 9   creationDate     1000000 non-null  object \n",
            " 10  userDisplayName  1550 non-null     object \n",
            " 11  userRealm        1000000 non-null  object \n",
            " 12  userId           1000000 non-null  object \n",
            "dtypes: bool(4), float64(2), object(7)\n",
            "memory usage: 72.5+ MB\n"
          ]
        }
      ]
    },
    {
      "cell_type": "code",
      "source": [
        "sampled_user_reviews.head()"
      ],
      "metadata": {
        "colab": {
          "base_uri": "https://localhost:8080/",
          "height": 591
        },
        "id": "MLd0SwAccfAp",
        "outputId": "a3470112-66a0-4441-e9df-7e20bf062803"
      },
      "execution_count": 39,
      "outputs": [
        {
          "output_type": "execute_result",
          "data": {
            "text/plain": [
              "                                movieId  rating  \\\n",
              "0  044acdfc-f685-338b-b465-d5405e5298c0     5.0   \n",
              "1  a67d1d59-e02f-35e0-9c53-b82e80799111     1.0   \n",
              "2  85a99b8b-4724-38b6-a5d0-23c0161a3ce5     3.5   \n",
              "3  e2bff218-467b-3595-ae11-c62d690641ad     5.0   \n",
              "4  e17a5735-c633-3e81-91a2-dd5b500931f7     5.0   \n",
              "\n",
              "                                               quote reviewId  isVerified  \\\n",
              "0  Tarantino`s great crime epic. Everyone in the ...      NaN       False   \n",
              "1   Unenjoyable for anyone over the age of RETARDED.      NaN       False   \n",
              "2  Other people go outside and smoke when they ta...      NaN       False   \n",
              "3  If you have seen this movie, then no words nee...      NaN       False   \n",
              "4       YAY YAH I COULD WATCH THIS WITH MARK LOL\\r\\n      NaN       False   \n",
              "\n",
              "   isSuperReviewer  hasSpoilers  hasProfanity  score creationDate  \\\n",
              "0            False        False         False    5.0   2005-10-15   \n",
              "1            False        False         False    1.0   2005-11-22   \n",
              "2            False        False         False    3.5   2004-06-30   \n",
              "3            False        False         False    5.0   2005-10-22   \n",
              "4            False        False         False    5.0   2005-12-22   \n",
              "\n",
              "  userDisplayName userRealm     userId  \n",
              "0             NaN        RT  900809275  \n",
              "1             NaN        RT  900699279  \n",
              "2             NaN        RT  900659533  \n",
              "3             NaN        RT  900767626  \n",
              "4             NaN        RT    1249927  "
            ],
            "text/html": [
              "\n",
              "  <div id=\"df-91140627-80d3-4990-8356-a5782ed3e9df\" class=\"colab-df-container\">\n",
              "    <div>\n",
              "<style scoped>\n",
              "    .dataframe tbody tr th:only-of-type {\n",
              "        vertical-align: middle;\n",
              "    }\n",
              "\n",
              "    .dataframe tbody tr th {\n",
              "        vertical-align: top;\n",
              "    }\n",
              "\n",
              "    .dataframe thead th {\n",
              "        text-align: right;\n",
              "    }\n",
              "</style>\n",
              "<table border=\"1\" class=\"dataframe\">\n",
              "  <thead>\n",
              "    <tr style=\"text-align: right;\">\n",
              "      <th></th>\n",
              "      <th>movieId</th>\n",
              "      <th>rating</th>\n",
              "      <th>quote</th>\n",
              "      <th>reviewId</th>\n",
              "      <th>isVerified</th>\n",
              "      <th>isSuperReviewer</th>\n",
              "      <th>hasSpoilers</th>\n",
              "      <th>hasProfanity</th>\n",
              "      <th>score</th>\n",
              "      <th>creationDate</th>\n",
              "      <th>userDisplayName</th>\n",
              "      <th>userRealm</th>\n",
              "      <th>userId</th>\n",
              "    </tr>\n",
              "  </thead>\n",
              "  <tbody>\n",
              "    <tr>\n",
              "      <th>0</th>\n",
              "      <td>044acdfc-f685-338b-b465-d5405e5298c0</td>\n",
              "      <td>5.0</td>\n",
              "      <td>Tarantino`s great crime epic. Everyone in the ...</td>\n",
              "      <td>NaN</td>\n",
              "      <td>False</td>\n",
              "      <td>False</td>\n",
              "      <td>False</td>\n",
              "      <td>False</td>\n",
              "      <td>5.0</td>\n",
              "      <td>2005-10-15</td>\n",
              "      <td>NaN</td>\n",
              "      <td>RT</td>\n",
              "      <td>900809275</td>\n",
              "    </tr>\n",
              "    <tr>\n",
              "      <th>1</th>\n",
              "      <td>a67d1d59-e02f-35e0-9c53-b82e80799111</td>\n",
              "      <td>1.0</td>\n",
              "      <td>Unenjoyable for anyone over the age of RETARDED.</td>\n",
              "      <td>NaN</td>\n",
              "      <td>False</td>\n",
              "      <td>False</td>\n",
              "      <td>False</td>\n",
              "      <td>False</td>\n",
              "      <td>1.0</td>\n",
              "      <td>2005-11-22</td>\n",
              "      <td>NaN</td>\n",
              "      <td>RT</td>\n",
              "      <td>900699279</td>\n",
              "    </tr>\n",
              "    <tr>\n",
              "      <th>2</th>\n",
              "      <td>85a99b8b-4724-38b6-a5d0-23c0161a3ce5</td>\n",
              "      <td>3.5</td>\n",
              "      <td>Other people go outside and smoke when they ta...</td>\n",
              "      <td>NaN</td>\n",
              "      <td>False</td>\n",
              "      <td>False</td>\n",
              "      <td>False</td>\n",
              "      <td>False</td>\n",
              "      <td>3.5</td>\n",
              "      <td>2004-06-30</td>\n",
              "      <td>NaN</td>\n",
              "      <td>RT</td>\n",
              "      <td>900659533</td>\n",
              "    </tr>\n",
              "    <tr>\n",
              "      <th>3</th>\n",
              "      <td>e2bff218-467b-3595-ae11-c62d690641ad</td>\n",
              "      <td>5.0</td>\n",
              "      <td>If you have seen this movie, then no words nee...</td>\n",
              "      <td>NaN</td>\n",
              "      <td>False</td>\n",
              "      <td>False</td>\n",
              "      <td>False</td>\n",
              "      <td>False</td>\n",
              "      <td>5.0</td>\n",
              "      <td>2005-10-22</td>\n",
              "      <td>NaN</td>\n",
              "      <td>RT</td>\n",
              "      <td>900767626</td>\n",
              "    </tr>\n",
              "    <tr>\n",
              "      <th>4</th>\n",
              "      <td>e17a5735-c633-3e81-91a2-dd5b500931f7</td>\n",
              "      <td>5.0</td>\n",
              "      <td>YAY YAH I COULD WATCH THIS WITH MARK LOL\\r\\n</td>\n",
              "      <td>NaN</td>\n",
              "      <td>False</td>\n",
              "      <td>False</td>\n",
              "      <td>False</td>\n",
              "      <td>False</td>\n",
              "      <td>5.0</td>\n",
              "      <td>2005-12-22</td>\n",
              "      <td>NaN</td>\n",
              "      <td>RT</td>\n",
              "      <td>1249927</td>\n",
              "    </tr>\n",
              "  </tbody>\n",
              "</table>\n",
              "</div>\n",
              "    <div class=\"colab-df-buttons\">\n",
              "\n",
              "  <div class=\"colab-df-container\">\n",
              "    <button class=\"colab-df-convert\" onclick=\"convertToInteractive('df-91140627-80d3-4990-8356-a5782ed3e9df')\"\n",
              "            title=\"Convert this dataframe to an interactive table.\"\n",
              "            style=\"display:none;\">\n",
              "\n",
              "  <svg xmlns=\"http://www.w3.org/2000/svg\" height=\"24px\" viewBox=\"0 -960 960 960\">\n",
              "    <path d=\"M120-120v-720h720v720H120Zm60-500h600v-160H180v160Zm220 220h160v-160H400v160Zm0 220h160v-160H400v160ZM180-400h160v-160H180v160Zm440 0h160v-160H620v160ZM180-180h160v-160H180v160Zm440 0h160v-160H620v160Z\"/>\n",
              "  </svg>\n",
              "    </button>\n",
              "\n",
              "  <style>\n",
              "    .colab-df-container {\n",
              "      display:flex;\n",
              "      gap: 12px;\n",
              "    }\n",
              "\n",
              "    .colab-df-convert {\n",
              "      background-color: #E8F0FE;\n",
              "      border: none;\n",
              "      border-radius: 50%;\n",
              "      cursor: pointer;\n",
              "      display: none;\n",
              "      fill: #1967D2;\n",
              "      height: 32px;\n",
              "      padding: 0 0 0 0;\n",
              "      width: 32px;\n",
              "    }\n",
              "\n",
              "    .colab-df-convert:hover {\n",
              "      background-color: #E2EBFA;\n",
              "      box-shadow: 0px 1px 2px rgba(60, 64, 67, 0.3), 0px 1px 3px 1px rgba(60, 64, 67, 0.15);\n",
              "      fill: #174EA6;\n",
              "    }\n",
              "\n",
              "    .colab-df-buttons div {\n",
              "      margin-bottom: 4px;\n",
              "    }\n",
              "\n",
              "    [theme=dark] .colab-df-convert {\n",
              "      background-color: #3B4455;\n",
              "      fill: #D2E3FC;\n",
              "    }\n",
              "\n",
              "    [theme=dark] .colab-df-convert:hover {\n",
              "      background-color: #434B5C;\n",
              "      box-shadow: 0px 1px 3px 1px rgba(0, 0, 0, 0.15);\n",
              "      filter: drop-shadow(0px 1px 2px rgba(0, 0, 0, 0.3));\n",
              "      fill: #FFFFFF;\n",
              "    }\n",
              "  </style>\n",
              "\n",
              "    <script>\n",
              "      const buttonEl =\n",
              "        document.querySelector('#df-91140627-80d3-4990-8356-a5782ed3e9df button.colab-df-convert');\n",
              "      buttonEl.style.display =\n",
              "        google.colab.kernel.accessAllowed ? 'block' : 'none';\n",
              "\n",
              "      async function convertToInteractive(key) {\n",
              "        const element = document.querySelector('#df-91140627-80d3-4990-8356-a5782ed3e9df');\n",
              "        const dataTable =\n",
              "          await google.colab.kernel.invokeFunction('convertToInteractive',\n",
              "                                                    [key], {});\n",
              "        if (!dataTable) return;\n",
              "\n",
              "        const docLinkHtml = 'Like what you see? Visit the ' +\n",
              "          '<a target=\"_blank\" href=https://colab.research.google.com/notebooks/data_table.ipynb>data table notebook</a>'\n",
              "          + ' to learn more about interactive tables.';\n",
              "        element.innerHTML = '';\n",
              "        dataTable['output_type'] = 'display_data';\n",
              "        await google.colab.output.renderOutput(dataTable, element);\n",
              "        const docLink = document.createElement('div');\n",
              "        docLink.innerHTML = docLinkHtml;\n",
              "        element.appendChild(docLink);\n",
              "      }\n",
              "    </script>\n",
              "  </div>\n",
              "\n",
              "\n",
              "<div id=\"df-d5972866-e1e8-43d0-a61d-a433c1a13d2e\">\n",
              "  <button class=\"colab-df-quickchart\" onclick=\"quickchart('df-d5972866-e1e8-43d0-a61d-a433c1a13d2e')\"\n",
              "            title=\"Suggest charts\"\n",
              "            style=\"display:none;\">\n",
              "\n",
              "<svg xmlns=\"http://www.w3.org/2000/svg\" height=\"24px\"viewBox=\"0 0 24 24\"\n",
              "     width=\"24px\">\n",
              "    <g>\n",
              "        <path d=\"M19 3H5c-1.1 0-2 .9-2 2v14c0 1.1.9 2 2 2h14c1.1 0 2-.9 2-2V5c0-1.1-.9-2-2-2zM9 17H7v-7h2v7zm4 0h-2V7h2v10zm4 0h-2v-4h2v4z\"/>\n",
              "    </g>\n",
              "</svg>\n",
              "  </button>\n",
              "\n",
              "<style>\n",
              "  .colab-df-quickchart {\n",
              "      --bg-color: #E8F0FE;\n",
              "      --fill-color: #1967D2;\n",
              "      --hover-bg-color: #E2EBFA;\n",
              "      --hover-fill-color: #174EA6;\n",
              "      --disabled-fill-color: #AAA;\n",
              "      --disabled-bg-color: #DDD;\n",
              "  }\n",
              "\n",
              "  [theme=dark] .colab-df-quickchart {\n",
              "      --bg-color: #3B4455;\n",
              "      --fill-color: #D2E3FC;\n",
              "      --hover-bg-color: #434B5C;\n",
              "      --hover-fill-color: #FFFFFF;\n",
              "      --disabled-bg-color: #3B4455;\n",
              "      --disabled-fill-color: #666;\n",
              "  }\n",
              "\n",
              "  .colab-df-quickchart {\n",
              "    background-color: var(--bg-color);\n",
              "    border: none;\n",
              "    border-radius: 50%;\n",
              "    cursor: pointer;\n",
              "    display: none;\n",
              "    fill: var(--fill-color);\n",
              "    height: 32px;\n",
              "    padding: 0;\n",
              "    width: 32px;\n",
              "  }\n",
              "\n",
              "  .colab-df-quickchart:hover {\n",
              "    background-color: var(--hover-bg-color);\n",
              "    box-shadow: 0 1px 2px rgba(60, 64, 67, 0.3), 0 1px 3px 1px rgba(60, 64, 67, 0.15);\n",
              "    fill: var(--button-hover-fill-color);\n",
              "  }\n",
              "\n",
              "  .colab-df-quickchart-complete:disabled,\n",
              "  .colab-df-quickchart-complete:disabled:hover {\n",
              "    background-color: var(--disabled-bg-color);\n",
              "    fill: var(--disabled-fill-color);\n",
              "    box-shadow: none;\n",
              "  }\n",
              "\n",
              "  .colab-df-spinner {\n",
              "    border: 2px solid var(--fill-color);\n",
              "    border-color: transparent;\n",
              "    border-bottom-color: var(--fill-color);\n",
              "    animation:\n",
              "      spin 1s steps(1) infinite;\n",
              "  }\n",
              "\n",
              "  @keyframes spin {\n",
              "    0% {\n",
              "      border-color: transparent;\n",
              "      border-bottom-color: var(--fill-color);\n",
              "      border-left-color: var(--fill-color);\n",
              "    }\n",
              "    20% {\n",
              "      border-color: transparent;\n",
              "      border-left-color: var(--fill-color);\n",
              "      border-top-color: var(--fill-color);\n",
              "    }\n",
              "    30% {\n",
              "      border-color: transparent;\n",
              "      border-left-color: var(--fill-color);\n",
              "      border-top-color: var(--fill-color);\n",
              "      border-right-color: var(--fill-color);\n",
              "    }\n",
              "    40% {\n",
              "      border-color: transparent;\n",
              "      border-right-color: var(--fill-color);\n",
              "      border-top-color: var(--fill-color);\n",
              "    }\n",
              "    60% {\n",
              "      border-color: transparent;\n",
              "      border-right-color: var(--fill-color);\n",
              "    }\n",
              "    80% {\n",
              "      border-color: transparent;\n",
              "      border-right-color: var(--fill-color);\n",
              "      border-bottom-color: var(--fill-color);\n",
              "    }\n",
              "    90% {\n",
              "      border-color: transparent;\n",
              "      border-bottom-color: var(--fill-color);\n",
              "    }\n",
              "  }\n",
              "</style>\n",
              "\n",
              "  <script>\n",
              "    async function quickchart(key) {\n",
              "      const quickchartButtonEl =\n",
              "        document.querySelector('#' + key + ' button');\n",
              "      quickchartButtonEl.disabled = true;  // To prevent multiple clicks.\n",
              "      quickchartButtonEl.classList.add('colab-df-spinner');\n",
              "      try {\n",
              "        const charts = await google.colab.kernel.invokeFunction(\n",
              "            'suggestCharts', [key], {});\n",
              "      } catch (error) {\n",
              "        console.error('Error during call to suggestCharts:', error);\n",
              "      }\n",
              "      quickchartButtonEl.classList.remove('colab-df-spinner');\n",
              "      quickchartButtonEl.classList.add('colab-df-quickchart-complete');\n",
              "    }\n",
              "    (() => {\n",
              "      let quickchartButtonEl =\n",
              "        document.querySelector('#df-d5972866-e1e8-43d0-a61d-a433c1a13d2e button');\n",
              "      quickchartButtonEl.style.display =\n",
              "        google.colab.kernel.accessAllowed ? 'block' : 'none';\n",
              "    })();\n",
              "  </script>\n",
              "</div>\n",
              "\n",
              "    </div>\n",
              "  </div>\n"
            ],
            "application/vnd.google.colaboratory.intrinsic+json": {
              "type": "dataframe",
              "variable_name": "sampled_user_reviews"
            }
          },
          "metadata": {},
          "execution_count": 39
        }
      ]
    },
    {
      "cell_type": "code",
      "source": [
        "# Check basic info about the dataset\n",
        "print(\"Dataset Info:\")\n",
        "print(sampled_user_reviews.info())\n",
        "\n",
        "# Check for missing values in each column\n",
        "print(\"\\nMissing values for each column:\")\n",
        "print(sampled_user_reviews.isna().sum())\n",
        "\n",
        "# Check value counts for each column\n",
        "for column in sampled_user_reviews.columns:\n",
        "    print(f\"\\nValue counts for column: {column}\")\n",
        "    print(sampled_user_reviews[column].value_counts())"
      ],
      "metadata": {
        "id": "m9L8BQsmcgq4",
        "colab": {
          "base_uri": "https://localhost:8080/"
        },
        "outputId": "44b6b484-a39c-4ced-c5d2-7e327539422d"
      },
      "execution_count": 40,
      "outputs": [
        {
          "output_type": "stream",
          "name": "stdout",
          "text": [
            "Dataset Info:\n",
            "<class 'pandas.core.frame.DataFrame'>\n",
            "RangeIndex: 1000000 entries, 0 to 999999\n",
            "Data columns (total 13 columns):\n",
            " #   Column           Non-Null Count    Dtype  \n",
            "---  ------           --------------    -----  \n",
            " 0   movieId          1000000 non-null  object \n",
            " 1   rating           1000000 non-null  float64\n",
            " 2   quote            1000000 non-null  object \n",
            " 3   reviewId         2884 non-null     object \n",
            " 4   isVerified       1000000 non-null  bool   \n",
            " 5   isSuperReviewer  1000000 non-null  bool   \n",
            " 6   hasSpoilers      1000000 non-null  bool   \n",
            " 7   hasProfanity     1000000 non-null  bool   \n",
            " 8   score            1000000 non-null  float64\n",
            " 9   creationDate     1000000 non-null  object \n",
            " 10  userDisplayName  1550 non-null     object \n",
            " 11  userRealm        1000000 non-null  object \n",
            " 12  userId           1000000 non-null  object \n",
            "dtypes: bool(4), float64(2), object(7)\n",
            "memory usage: 72.5+ MB\n",
            "None\n",
            "\n",
            "Missing values for each column:\n",
            "movieId                 0\n",
            "rating                  0\n",
            "quote                   0\n",
            "reviewId           997116\n",
            "isVerified              0\n",
            "isSuperReviewer         0\n",
            "hasSpoilers             0\n",
            "hasProfanity            0\n",
            "score                   0\n",
            "creationDate            0\n",
            "userDisplayName    998450\n",
            "userRealm               0\n",
            "userId                  0\n",
            "dtype: int64\n",
            "\n",
            "Value counts for column: movieId\n",
            "movieId\n",
            "3f297cf0-2e9d-31c0-b566-6676dd8548b2    38793\n",
            "e52032a2-ff77-331a-b59e-4104ee459688    30486\n",
            "42c0dd81-a26d-351b-b446-385fdbdf4669    30209\n",
            "0fd51ade-60eb-3534-888c-5c6956257dc5    26963\n",
            "08cb7400-77d3-394a-9054-a6843e4f0dda    25297\n",
            "                                        ...  \n",
            "c5d24fd3-b122-3603-a977-79b6823dbec4        1\n",
            "b9bcd037-a633-30bc-a036-f062148dba0a        1\n",
            "c4101f19-a8e5-3aa0-94c7-3aab40aba458        1\n",
            "5cfacd47-e60f-31a2-b9b9-20fc9f2fa209        1\n",
            "3916e47a-6e92-3176-a179-90e156c91b39        1\n",
            "Name: count, Length: 3381, dtype: int64\n",
            "\n",
            "Value counts for column: rating\n",
            "rating\n",
            "5.0    336134\n",
            "4.0    257829\n",
            "3.0    203851\n",
            "2.0     92035\n",
            "1.0     59573\n",
            "3.5     18420\n",
            "4.5     17787\n",
            "2.5      8236\n",
            "1.5      3891\n",
            "0.5      2244\n",
            "Name: count, dtype: int64\n",
            "\n",
            "Value counts for column: quote\n",
            "quote\n",
            "not as good as the first                                                                                                                                                         410\n",
            "not as good as the first one                                                                                                                                                     312\n",
            "could have been better                                                                                                                                                           208\n",
            "first one was better                                                                                                                                                             203\n",
            "not as good as the original                                                                                                                                                      195\n",
            "                                                                                                                                                                                ... \n",
            "jack blast at this best                                                                                                                                                            1\n",
            "fuckin crap?????????                                                                                                                                                               1\n",
            "Best Movie ever!!!!!                                                                                                                                                               1\n",
            "Puts things into perspective. A really good thriller                                                                                                                               1\n",
            "2 1/2 idea is new. but philosophy is confusing and confused. especially the matrix as a trilogy. i guess you watch this for keanu reeves. but then his acting is kind of enh.      1\n",
            "Name: count, Length: 948555, dtype: int64\n",
            "\n",
            "Value counts for column: reviewId\n",
            "reviewId\n",
            "08981376-9d6c-4b4a-a637-29e72a74c964    1\n",
            "e5e38abf-d321-4189-bf48-c7e692b6bd5e    1\n",
            "7488030f-5f98-46d7-aff2-f639269c7c21    1\n",
            "488ab769-9e16-491e-b043-2d7d9034e641    1\n",
            "8de037d8-9dfb-4137-94d6-e1f105b6fac8    1\n",
            "                                       ..\n",
            "5cd258d9-d74a-4083-8f36-38b5df2f98a4    1\n",
            "b05b2364-e7b4-49ad-8498-e1e23a54850a    1\n",
            "542bfc89-3e7f-4df1-96f7-82b4b10644fb    1\n",
            "3eb82732-079d-48b2-b182-cb82adf5744b    1\n",
            "a11f35c4-c7a7-4ff6-8c33-db23a25ecb4d    1\n",
            "Name: count, Length: 2884, dtype: int64\n",
            "\n",
            "Value counts for column: isVerified\n",
            "isVerified\n",
            "False    1000000\n",
            "Name: count, dtype: int64\n",
            "\n",
            "Value counts for column: isSuperReviewer\n",
            "isSuperReviewer\n",
            "False    999069\n",
            "True        931\n",
            "Name: count, dtype: int64\n",
            "\n",
            "Value counts for column: hasSpoilers\n",
            "hasSpoilers\n",
            "False    1000000\n",
            "Name: count, dtype: int64\n",
            "\n",
            "Value counts for column: hasProfanity\n",
            "hasProfanity\n",
            "False    999999\n",
            "True          1\n",
            "Name: count, dtype: int64\n",
            "\n",
            "Value counts for column: score\n",
            "score\n",
            "5.0    336134\n",
            "4.0    257829\n",
            "3.0    203851\n",
            "2.0     92035\n",
            "1.0     59573\n",
            "3.5     18420\n",
            "4.5     17787\n",
            "2.5      8236\n",
            "1.5      3891\n",
            "0.5      2244\n",
            "Name: count, dtype: int64\n",
            "\n",
            "Value counts for column: creationDate\n",
            "creationDate\n",
            "2006-02-20    74909\n",
            "2006-02-21    67235\n",
            "2006-02-17    58470\n",
            "2006-02-10    51797\n",
            "2006-02-09    51400\n",
            "              ...  \n",
            "2003-02-08        1\n",
            "2002-07-29        1\n",
            "1997-12-08        1\n",
            "2003-01-05        1\n",
            "2003-07-02        1\n",
            "Name: count, Length: 1038, dtype: int64\n",
            "\n",
            "Value counts for column: userDisplayName\n",
            "userDisplayName\n",
            "ashley h     123\n",
            "walter m     122\n",
            "jk a          84\n",
            "Matthew H     56\n",
            "asher c       56\n",
            "            ... \n",
            "Tanya C        1\n",
            "Heather V      1\n",
            "Alex D         1\n",
            "Alex H         1\n",
            "kate b         1\n",
            "Name: count, Length: 380, dtype: int64\n",
            "\n",
            "Value counts for column: userRealm\n",
            "userRealm\n",
            "RT          999999\n",
            "Flixster         1\n",
            "Name: count, dtype: int64\n",
            "\n",
            "Value counts for column: userId\n",
            "userId\n",
            "900705768    1232\n",
            "900700775     762\n",
            "900598674     725\n",
            "900771236     560\n",
            "900625297     506\n",
            "             ... \n",
            "1032631         1\n",
            "20124639        1\n",
            "10678556        1\n",
            "900836096       1\n",
            "42725631        1\n",
            "Name: count, Length: 139327, dtype: int64\n"
          ]
        }
      ]
    },
    {
      "cell_type": "code",
      "source": [
        "# Drop unnecessary columns\n",
        "sampled_user_reviews_cleaned = sampled_user_reviews\n",
        "sampled_user_reviews_cleaned = sampled_user_reviews_cleaned.drop(['reviewId', 'userDisplayName', 'isVerified', 'hasSpoilers', 'userRealm', 'hasProfanity', 'isSuperReviewer', 'rating'], axis=1)\n",
        "\n",
        "print(sampled_user_reviews_cleaned.info())"
      ],
      "metadata": {
        "colab": {
          "base_uri": "https://localhost:8080/"
        },
        "id": "9wMh7iOfcolG",
        "outputId": "63b64afb-baf2-43ba-c554-33fc0d0493c7"
      },
      "execution_count": 41,
      "outputs": [
        {
          "output_type": "stream",
          "name": "stdout",
          "text": [
            "<class 'pandas.core.frame.DataFrame'>\n",
            "RangeIndex: 1000000 entries, 0 to 999999\n",
            "Data columns (total 5 columns):\n",
            " #   Column        Non-Null Count    Dtype  \n",
            "---  ------        --------------    -----  \n",
            " 0   movieId       1000000 non-null  object \n",
            " 1   quote         1000000 non-null  object \n",
            " 2   score         1000000 non-null  float64\n",
            " 3   creationDate  1000000 non-null  object \n",
            " 4   userId        1000000 non-null  object \n",
            "dtypes: float64(1), object(4)\n",
            "memory usage: 38.1+ MB\n",
            "None\n"
          ]
        }
      ]
    },
    {
      "cell_type": "code",
      "source": [
        "sampled_user_reviews_cleaned.columns = [camel_to_snake_manual(col) for col in sampled_user_reviews_cleaned.columns]\n",
        "sampled_user_reviews_cleaned.columns"
      ],
      "metadata": {
        "colab": {
          "base_uri": "https://localhost:8080/"
        },
        "id": "KxKHu0PWd9sl",
        "outputId": "e277c2ab-543e-4b0a-8d95-b358b0436b71"
      },
      "execution_count": 42,
      "outputs": [
        {
          "output_type": "execute_result",
          "data": {
            "text/plain": [
              "Index(['movie_id', 'quote', 'score', 'creation_date', 'user_id'], dtype='object')"
            ]
          },
          "metadata": {},
          "execution_count": 42
        }
      ]
    },
    {
      "cell_type": "code",
      "source": [
        "# Round the 'score' column to the nearest integer\n",
        "sampled_user_reviews_cleaned['standardized_score'] = sampled_user_reviews_cleaned['score'].round(0).astype(int)\n",
        "sampled_user_reviews_cleaned = sampled_user_reviews_cleaned.drop('score', axis=1)\n",
        "print(sampled_user_reviews_cleaned.columns)"
      ],
      "metadata": {
        "colab": {
          "base_uri": "https://localhost:8080/"
        },
        "id": "lzXSN_UEecTi",
        "outputId": "e140aa56-e4ed-4573-814a-5d276d767d2c"
      },
      "execution_count": 43,
      "outputs": [
        {
          "output_type": "stream",
          "name": "stdout",
          "text": [
            "Index(['movie_id', 'quote', 'creation_date', 'user_id', 'standardized_score'], dtype='object')\n"
          ]
        }
      ]
    },
    {
      "cell_type": "code",
      "source": [
        "sampled_user_reviews_cleaned.columns"
      ],
      "metadata": {
        "colab": {
          "base_uri": "https://localhost:8080/"
        },
        "id": "BVRb3eckhwjh",
        "outputId": "daf086df-d301-41a7-ed7b-36424fda83ff"
      },
      "execution_count": 44,
      "outputs": [
        {
          "output_type": "execute_result",
          "data": {
            "text/plain": [
              "Index(['movie_id', 'quote', 'creation_date', 'user_id', 'standardized_score'], dtype='object')"
            ]
          },
          "metadata": {},
          "execution_count": 44
        }
      ]
    },
    {
      "cell_type": "code",
      "source": [
        "# Convert 'creation_date' to datetime format\n",
        "sampled_user_reviews_cleaned['creation_date'] = pd.to_datetime(sampled_user_reviews_cleaned['creation_date'], errors='coerce')\n",
        "\n",
        "# Extract the year from 'creation_date'\n",
        "sampled_user_reviews_cleaned['creation_year'] = sampled_user_reviews_cleaned['creation_date'].dt.year\n",
        "\n",
        "# Drop the 'creation_date' column\n",
        "sampled_user_reviews_cleaned.drop(columns=['creation_date'], inplace=True)\n",
        "\n",
        "print(sampled_user_reviews_cleaned.head())"
      ],
      "metadata": {
        "colab": {
          "base_uri": "https://localhost:8080/"
        },
        "id": "uFTTtZC5m0GA",
        "outputId": "623bae0f-a800-4e9d-a0e2-dc1222a2e111"
      },
      "execution_count": 45,
      "outputs": [
        {
          "output_type": "stream",
          "name": "stdout",
          "text": [
            "                               movie_id  \\\n",
            "0  044acdfc-f685-338b-b465-d5405e5298c0   \n",
            "1  a67d1d59-e02f-35e0-9c53-b82e80799111   \n",
            "2  85a99b8b-4724-38b6-a5d0-23c0161a3ce5   \n",
            "3  e2bff218-467b-3595-ae11-c62d690641ad   \n",
            "4  e17a5735-c633-3e81-91a2-dd5b500931f7   \n",
            "\n",
            "                                               quote    user_id  \\\n",
            "0  Tarantino`s great crime epic. Everyone in the ...  900809275   \n",
            "1   Unenjoyable for anyone over the age of RETARDED.  900699279   \n",
            "2  Other people go outside and smoke when they ta...  900659533   \n",
            "3  If you have seen this movie, then no words nee...  900767626   \n",
            "4       YAY YAH I COULD WATCH THIS WITH MARK LOL\\r\\n    1249927   \n",
            "\n",
            "   standardized_score  creation_year  \n",
            "0                   5           2005  \n",
            "1                   1           2005  \n",
            "2                   4           2004  \n",
            "3                   5           2005  \n",
            "4                   5           2005  \n"
          ]
        }
      ]
    },
    {
      "cell_type": "code",
      "source": [
        "sampled_user_reviews_cleaned['creation_year'].value_counts()"
      ],
      "metadata": {
        "colab": {
          "base_uri": "https://localhost:8080/",
          "height": 460
        },
        "id": "KoO0wzUjnbA6",
        "outputId": "f916fb0b-392c-44e1-c588-22197cabebce"
      },
      "execution_count": 46,
      "outputs": [
        {
          "output_type": "execute_result",
          "data": {
            "text/plain": [
              "creation_year\n",
              "2006    901191\n",
              "2005     60473\n",
              "2004     34893\n",
              "2003      3362\n",
              "2002        49\n",
              "1996        10\n",
              "1999         8\n",
              "2000         5\n",
              "2001         5\n",
              "1998         3\n",
              "1997         1\n",
              "Name: count, dtype: int64"
            ],
            "text/html": [
              "<div>\n",
              "<style scoped>\n",
              "    .dataframe tbody tr th:only-of-type {\n",
              "        vertical-align: middle;\n",
              "    }\n",
              "\n",
              "    .dataframe tbody tr th {\n",
              "        vertical-align: top;\n",
              "    }\n",
              "\n",
              "    .dataframe thead th {\n",
              "        text-align: right;\n",
              "    }\n",
              "</style>\n",
              "<table border=\"1\" class=\"dataframe\">\n",
              "  <thead>\n",
              "    <tr style=\"text-align: right;\">\n",
              "      <th></th>\n",
              "      <th>count</th>\n",
              "    </tr>\n",
              "    <tr>\n",
              "      <th>creation_year</th>\n",
              "      <th></th>\n",
              "    </tr>\n",
              "  </thead>\n",
              "  <tbody>\n",
              "    <tr>\n",
              "      <th>2006</th>\n",
              "      <td>901191</td>\n",
              "    </tr>\n",
              "    <tr>\n",
              "      <th>2005</th>\n",
              "      <td>60473</td>\n",
              "    </tr>\n",
              "    <tr>\n",
              "      <th>2004</th>\n",
              "      <td>34893</td>\n",
              "    </tr>\n",
              "    <tr>\n",
              "      <th>2003</th>\n",
              "      <td>3362</td>\n",
              "    </tr>\n",
              "    <tr>\n",
              "      <th>2002</th>\n",
              "      <td>49</td>\n",
              "    </tr>\n",
              "    <tr>\n",
              "      <th>1996</th>\n",
              "      <td>10</td>\n",
              "    </tr>\n",
              "    <tr>\n",
              "      <th>1999</th>\n",
              "      <td>8</td>\n",
              "    </tr>\n",
              "    <tr>\n",
              "      <th>2000</th>\n",
              "      <td>5</td>\n",
              "    </tr>\n",
              "    <tr>\n",
              "      <th>2001</th>\n",
              "      <td>5</td>\n",
              "    </tr>\n",
              "    <tr>\n",
              "      <th>1998</th>\n",
              "      <td>3</td>\n",
              "    </tr>\n",
              "    <tr>\n",
              "      <th>1997</th>\n",
              "      <td>1</td>\n",
              "    </tr>\n",
              "  </tbody>\n",
              "</table>\n",
              "</div><br><label><b>dtype:</b> int64</label>"
            ]
          },
          "metadata": {},
          "execution_count": 46
        }
      ]
    },
    {
      "cell_type": "code",
      "source": [
        "sampled_user_reviews_cleaned['user_id'].describe()"
      ],
      "metadata": {
        "colab": {
          "base_uri": "https://localhost:8080/",
          "height": 210
        },
        "id": "wVb_mrexnyvZ",
        "outputId": "cf9d20c8-b48c-4c6b-a3e6-c3ec9c215858"
      },
      "execution_count": 47,
      "outputs": [
        {
          "output_type": "execute_result",
          "data": {
            "text/plain": [
              "count       1000000\n",
              "unique       139327\n",
              "top       900705768\n",
              "freq           1232\n",
              "Name: user_id, dtype: object"
            ],
            "text/html": [
              "<div>\n",
              "<style scoped>\n",
              "    .dataframe tbody tr th:only-of-type {\n",
              "        vertical-align: middle;\n",
              "    }\n",
              "\n",
              "    .dataframe tbody tr th {\n",
              "        vertical-align: top;\n",
              "    }\n",
              "\n",
              "    .dataframe thead th {\n",
              "        text-align: right;\n",
              "    }\n",
              "</style>\n",
              "<table border=\"1\" class=\"dataframe\">\n",
              "  <thead>\n",
              "    <tr style=\"text-align: right;\">\n",
              "      <th></th>\n",
              "      <th>user_id</th>\n",
              "    </tr>\n",
              "  </thead>\n",
              "  <tbody>\n",
              "    <tr>\n",
              "      <th>count</th>\n",
              "      <td>1000000</td>\n",
              "    </tr>\n",
              "    <tr>\n",
              "      <th>unique</th>\n",
              "      <td>139327</td>\n",
              "    </tr>\n",
              "    <tr>\n",
              "      <th>top</th>\n",
              "      <td>900705768</td>\n",
              "    </tr>\n",
              "    <tr>\n",
              "      <th>freq</th>\n",
              "      <td>1232</td>\n",
              "    </tr>\n",
              "  </tbody>\n",
              "</table>\n",
              "</div><br><label><b>dtype:</b> object</label>"
            ]
          },
          "metadata": {},
          "execution_count": 47
        }
      ]
    },
    {
      "cell_type": "code",
      "source": [
        "sampled_user_reviews_cleaned.head()"
      ],
      "metadata": {
        "colab": {
          "base_uri": "https://localhost:8080/",
          "height": 293
        },
        "id": "l6O_F9ZOotbs",
        "outputId": "99044a05-f570-4a35-fbda-da46351fc856"
      },
      "execution_count": 48,
      "outputs": [
        {
          "output_type": "execute_result",
          "data": {
            "text/plain": [
              "                               movie_id  \\\n",
              "0  044acdfc-f685-338b-b465-d5405e5298c0   \n",
              "1  a67d1d59-e02f-35e0-9c53-b82e80799111   \n",
              "2  85a99b8b-4724-38b6-a5d0-23c0161a3ce5   \n",
              "3  e2bff218-467b-3595-ae11-c62d690641ad   \n",
              "4  e17a5735-c633-3e81-91a2-dd5b500931f7   \n",
              "\n",
              "                                               quote    user_id  \\\n",
              "0  Tarantino`s great crime epic. Everyone in the ...  900809275   \n",
              "1   Unenjoyable for anyone over the age of RETARDED.  900699279   \n",
              "2  Other people go outside and smoke when they ta...  900659533   \n",
              "3  If you have seen this movie, then no words nee...  900767626   \n",
              "4       YAY YAH I COULD WATCH THIS WITH MARK LOL\\r\\n    1249927   \n",
              "\n",
              "   standardized_score  creation_year  \n",
              "0                   5           2005  \n",
              "1                   1           2005  \n",
              "2                   4           2004  \n",
              "3                   5           2005  \n",
              "4                   5           2005  "
            ],
            "text/html": [
              "\n",
              "  <div id=\"df-a735e4a9-3c62-40eb-8c5a-e9b2e7105ed8\" class=\"colab-df-container\">\n",
              "    <div>\n",
              "<style scoped>\n",
              "    .dataframe tbody tr th:only-of-type {\n",
              "        vertical-align: middle;\n",
              "    }\n",
              "\n",
              "    .dataframe tbody tr th {\n",
              "        vertical-align: top;\n",
              "    }\n",
              "\n",
              "    .dataframe thead th {\n",
              "        text-align: right;\n",
              "    }\n",
              "</style>\n",
              "<table border=\"1\" class=\"dataframe\">\n",
              "  <thead>\n",
              "    <tr style=\"text-align: right;\">\n",
              "      <th></th>\n",
              "      <th>movie_id</th>\n",
              "      <th>quote</th>\n",
              "      <th>user_id</th>\n",
              "      <th>standardized_score</th>\n",
              "      <th>creation_year</th>\n",
              "    </tr>\n",
              "  </thead>\n",
              "  <tbody>\n",
              "    <tr>\n",
              "      <th>0</th>\n",
              "      <td>044acdfc-f685-338b-b465-d5405e5298c0</td>\n",
              "      <td>Tarantino`s great crime epic. Everyone in the ...</td>\n",
              "      <td>900809275</td>\n",
              "      <td>5</td>\n",
              "      <td>2005</td>\n",
              "    </tr>\n",
              "    <tr>\n",
              "      <th>1</th>\n",
              "      <td>a67d1d59-e02f-35e0-9c53-b82e80799111</td>\n",
              "      <td>Unenjoyable for anyone over the age of RETARDED.</td>\n",
              "      <td>900699279</td>\n",
              "      <td>1</td>\n",
              "      <td>2005</td>\n",
              "    </tr>\n",
              "    <tr>\n",
              "      <th>2</th>\n",
              "      <td>85a99b8b-4724-38b6-a5d0-23c0161a3ce5</td>\n",
              "      <td>Other people go outside and smoke when they ta...</td>\n",
              "      <td>900659533</td>\n",
              "      <td>4</td>\n",
              "      <td>2004</td>\n",
              "    </tr>\n",
              "    <tr>\n",
              "      <th>3</th>\n",
              "      <td>e2bff218-467b-3595-ae11-c62d690641ad</td>\n",
              "      <td>If you have seen this movie, then no words nee...</td>\n",
              "      <td>900767626</td>\n",
              "      <td>5</td>\n",
              "      <td>2005</td>\n",
              "    </tr>\n",
              "    <tr>\n",
              "      <th>4</th>\n",
              "      <td>e17a5735-c633-3e81-91a2-dd5b500931f7</td>\n",
              "      <td>YAY YAH I COULD WATCH THIS WITH MARK LOL\\r\\n</td>\n",
              "      <td>1249927</td>\n",
              "      <td>5</td>\n",
              "      <td>2005</td>\n",
              "    </tr>\n",
              "  </tbody>\n",
              "</table>\n",
              "</div>\n",
              "    <div class=\"colab-df-buttons\">\n",
              "\n",
              "  <div class=\"colab-df-container\">\n",
              "    <button class=\"colab-df-convert\" onclick=\"convertToInteractive('df-a735e4a9-3c62-40eb-8c5a-e9b2e7105ed8')\"\n",
              "            title=\"Convert this dataframe to an interactive table.\"\n",
              "            style=\"display:none;\">\n",
              "\n",
              "  <svg xmlns=\"http://www.w3.org/2000/svg\" height=\"24px\" viewBox=\"0 -960 960 960\">\n",
              "    <path d=\"M120-120v-720h720v720H120Zm60-500h600v-160H180v160Zm220 220h160v-160H400v160Zm0 220h160v-160H400v160ZM180-400h160v-160H180v160Zm440 0h160v-160H620v160ZM180-180h160v-160H180v160Zm440 0h160v-160H620v160Z\"/>\n",
              "  </svg>\n",
              "    </button>\n",
              "\n",
              "  <style>\n",
              "    .colab-df-container {\n",
              "      display:flex;\n",
              "      gap: 12px;\n",
              "    }\n",
              "\n",
              "    .colab-df-convert {\n",
              "      background-color: #E8F0FE;\n",
              "      border: none;\n",
              "      border-radius: 50%;\n",
              "      cursor: pointer;\n",
              "      display: none;\n",
              "      fill: #1967D2;\n",
              "      height: 32px;\n",
              "      padding: 0 0 0 0;\n",
              "      width: 32px;\n",
              "    }\n",
              "\n",
              "    .colab-df-convert:hover {\n",
              "      background-color: #E2EBFA;\n",
              "      box-shadow: 0px 1px 2px rgba(60, 64, 67, 0.3), 0px 1px 3px 1px rgba(60, 64, 67, 0.15);\n",
              "      fill: #174EA6;\n",
              "    }\n",
              "\n",
              "    .colab-df-buttons div {\n",
              "      margin-bottom: 4px;\n",
              "    }\n",
              "\n",
              "    [theme=dark] .colab-df-convert {\n",
              "      background-color: #3B4455;\n",
              "      fill: #D2E3FC;\n",
              "    }\n",
              "\n",
              "    [theme=dark] .colab-df-convert:hover {\n",
              "      background-color: #434B5C;\n",
              "      box-shadow: 0px 1px 3px 1px rgba(0, 0, 0, 0.15);\n",
              "      filter: drop-shadow(0px 1px 2px rgba(0, 0, 0, 0.3));\n",
              "      fill: #FFFFFF;\n",
              "    }\n",
              "  </style>\n",
              "\n",
              "    <script>\n",
              "      const buttonEl =\n",
              "        document.querySelector('#df-a735e4a9-3c62-40eb-8c5a-e9b2e7105ed8 button.colab-df-convert');\n",
              "      buttonEl.style.display =\n",
              "        google.colab.kernel.accessAllowed ? 'block' : 'none';\n",
              "\n",
              "      async function convertToInteractive(key) {\n",
              "        const element = document.querySelector('#df-a735e4a9-3c62-40eb-8c5a-e9b2e7105ed8');\n",
              "        const dataTable =\n",
              "          await google.colab.kernel.invokeFunction('convertToInteractive',\n",
              "                                                    [key], {});\n",
              "        if (!dataTable) return;\n",
              "\n",
              "        const docLinkHtml = 'Like what you see? Visit the ' +\n",
              "          '<a target=\"_blank\" href=https://colab.research.google.com/notebooks/data_table.ipynb>data table notebook</a>'\n",
              "          + ' to learn more about interactive tables.';\n",
              "        element.innerHTML = '';\n",
              "        dataTable['output_type'] = 'display_data';\n",
              "        await google.colab.output.renderOutput(dataTable, element);\n",
              "        const docLink = document.createElement('div');\n",
              "        docLink.innerHTML = docLinkHtml;\n",
              "        element.appendChild(docLink);\n",
              "      }\n",
              "    </script>\n",
              "  </div>\n",
              "\n",
              "\n",
              "<div id=\"df-e8cb3714-91cd-48ab-9e85-7a5b3847cad7\">\n",
              "  <button class=\"colab-df-quickchart\" onclick=\"quickchart('df-e8cb3714-91cd-48ab-9e85-7a5b3847cad7')\"\n",
              "            title=\"Suggest charts\"\n",
              "            style=\"display:none;\">\n",
              "\n",
              "<svg xmlns=\"http://www.w3.org/2000/svg\" height=\"24px\"viewBox=\"0 0 24 24\"\n",
              "     width=\"24px\">\n",
              "    <g>\n",
              "        <path d=\"M19 3H5c-1.1 0-2 .9-2 2v14c0 1.1.9 2 2 2h14c1.1 0 2-.9 2-2V5c0-1.1-.9-2-2-2zM9 17H7v-7h2v7zm4 0h-2V7h2v10zm4 0h-2v-4h2v4z\"/>\n",
              "    </g>\n",
              "</svg>\n",
              "  </button>\n",
              "\n",
              "<style>\n",
              "  .colab-df-quickchart {\n",
              "      --bg-color: #E8F0FE;\n",
              "      --fill-color: #1967D2;\n",
              "      --hover-bg-color: #E2EBFA;\n",
              "      --hover-fill-color: #174EA6;\n",
              "      --disabled-fill-color: #AAA;\n",
              "      --disabled-bg-color: #DDD;\n",
              "  }\n",
              "\n",
              "  [theme=dark] .colab-df-quickchart {\n",
              "      --bg-color: #3B4455;\n",
              "      --fill-color: #D2E3FC;\n",
              "      --hover-bg-color: #434B5C;\n",
              "      --hover-fill-color: #FFFFFF;\n",
              "      --disabled-bg-color: #3B4455;\n",
              "      --disabled-fill-color: #666;\n",
              "  }\n",
              "\n",
              "  .colab-df-quickchart {\n",
              "    background-color: var(--bg-color);\n",
              "    border: none;\n",
              "    border-radius: 50%;\n",
              "    cursor: pointer;\n",
              "    display: none;\n",
              "    fill: var(--fill-color);\n",
              "    height: 32px;\n",
              "    padding: 0;\n",
              "    width: 32px;\n",
              "  }\n",
              "\n",
              "  .colab-df-quickchart:hover {\n",
              "    background-color: var(--hover-bg-color);\n",
              "    box-shadow: 0 1px 2px rgba(60, 64, 67, 0.3), 0 1px 3px 1px rgba(60, 64, 67, 0.15);\n",
              "    fill: var(--button-hover-fill-color);\n",
              "  }\n",
              "\n",
              "  .colab-df-quickchart-complete:disabled,\n",
              "  .colab-df-quickchart-complete:disabled:hover {\n",
              "    background-color: var(--disabled-bg-color);\n",
              "    fill: var(--disabled-fill-color);\n",
              "    box-shadow: none;\n",
              "  }\n",
              "\n",
              "  .colab-df-spinner {\n",
              "    border: 2px solid var(--fill-color);\n",
              "    border-color: transparent;\n",
              "    border-bottom-color: var(--fill-color);\n",
              "    animation:\n",
              "      spin 1s steps(1) infinite;\n",
              "  }\n",
              "\n",
              "  @keyframes spin {\n",
              "    0% {\n",
              "      border-color: transparent;\n",
              "      border-bottom-color: var(--fill-color);\n",
              "      border-left-color: var(--fill-color);\n",
              "    }\n",
              "    20% {\n",
              "      border-color: transparent;\n",
              "      border-left-color: var(--fill-color);\n",
              "      border-top-color: var(--fill-color);\n",
              "    }\n",
              "    30% {\n",
              "      border-color: transparent;\n",
              "      border-left-color: var(--fill-color);\n",
              "      border-top-color: var(--fill-color);\n",
              "      border-right-color: var(--fill-color);\n",
              "    }\n",
              "    40% {\n",
              "      border-color: transparent;\n",
              "      border-right-color: var(--fill-color);\n",
              "      border-top-color: var(--fill-color);\n",
              "    }\n",
              "    60% {\n",
              "      border-color: transparent;\n",
              "      border-right-color: var(--fill-color);\n",
              "    }\n",
              "    80% {\n",
              "      border-color: transparent;\n",
              "      border-right-color: var(--fill-color);\n",
              "      border-bottom-color: var(--fill-color);\n",
              "    }\n",
              "    90% {\n",
              "      border-color: transparent;\n",
              "      border-bottom-color: var(--fill-color);\n",
              "    }\n",
              "  }\n",
              "</style>\n",
              "\n",
              "  <script>\n",
              "    async function quickchart(key) {\n",
              "      const quickchartButtonEl =\n",
              "        document.querySelector('#' + key + ' button');\n",
              "      quickchartButtonEl.disabled = true;  // To prevent multiple clicks.\n",
              "      quickchartButtonEl.classList.add('colab-df-spinner');\n",
              "      try {\n",
              "        const charts = await google.colab.kernel.invokeFunction(\n",
              "            'suggestCharts', [key], {});\n",
              "      } catch (error) {\n",
              "        console.error('Error during call to suggestCharts:', error);\n",
              "      }\n",
              "      quickchartButtonEl.classList.remove('colab-df-spinner');\n",
              "      quickchartButtonEl.classList.add('colab-df-quickchart-complete');\n",
              "    }\n",
              "    (() => {\n",
              "      let quickchartButtonEl =\n",
              "        document.querySelector('#df-e8cb3714-91cd-48ab-9e85-7a5b3847cad7 button');\n",
              "      quickchartButtonEl.style.display =\n",
              "        google.colab.kernel.accessAllowed ? 'block' : 'none';\n",
              "    })();\n",
              "  </script>\n",
              "</div>\n",
              "\n",
              "    </div>\n",
              "  </div>\n"
            ],
            "application/vnd.google.colaboratory.intrinsic+json": {
              "type": "dataframe",
              "variable_name": "sampled_user_reviews_cleaned"
            }
          },
          "metadata": {},
          "execution_count": 48
        }
      ]
    },
    {
      "cell_type": "code",
      "source": [
        "# Save a cleaned version of sampled_user_reviews_cleaned\n",
        "critic_reviews_cleaned.to_csv('/content/drive/MyDrive/chingu/chingu_datasets/sampled_user_reviews_cleaned.csv', index=False)"
      ],
      "metadata": {
        "id": "egJ-ypuUoN-t"
      },
      "execution_count": 49,
      "outputs": []
    },
    {
      "cell_type": "markdown",
      "source": [
        "### User Reviews Analysis"
      ],
      "metadata": {
        "id": "BCrEW5HkcmJX"
      }
    }
  ],
  "metadata": {
    "colab": {
      "provenance": [],
      "toc_visible": true,
      "include_colab_link": true
    },
    "kernelspec": {
      "display_name": "Python 3",
      "name": "python3"
    },
    "language_info": {
      "name": "python"
    }
  },
  "nbformat": 4,
  "nbformat_minor": 0
}