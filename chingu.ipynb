{
  "cells": [
    {
      "cell_type": "markdown",
      "metadata": {
        "id": "view-in-github",
        "colab_type": "text"
      },
      "source": [
        "<a href=\"https://colab.research.google.com/github/chingu-voyages/v51-tier3-team-39/blob/main/chingu.ipynb\" target=\"_parent\"><img src=\"https://colab.research.google.com/assets/colab-badge.svg\" alt=\"Open In Colab\"/></a>"
      ]
    },
    {
      "cell_type": "markdown",
      "source": [
        "# Title\n"
      ],
      "metadata": {
        "id": "F6H7e9_bEPRf"
      }
    },
    {
      "cell_type": "code",
      "source": [
        "import pandas as pd\n",
        "from google.colab import drive\n",
        "drive.mount('/content/drive')"
      ],
      "metadata": {
        "colab": {
          "base_uri": "https://localhost:8080/"
        },
        "id": "f1NdjzelERy8",
        "outputId": "5875084d-bc3d-40b6-e7e3-b4ea32a0c8c7"
      },
      "execution_count": 1,
      "outputs": [
        {
          "output_type": "stream",
          "name": "stdout",
          "text": [
            "Drive already mounted at /content/drive; to attempt to forcibly remount, call drive.mount(\"/content/drive\", force_remount=True).\n"
          ]
        }
      ]
    },
    {
      "cell_type": "code",
      "source": [
        "critic_reviews = pd.read_csv('/content/drive/MyDrive/chingu_datasets/critic_reviews.csv')\n",
        "movies = pd.read_csv('/content/drive/MyDrive/chingu_datasets/movies.csv')\n",
        "\n",
        "# Load only the first 500,000 rows of user_reviews\n",
        "user_reviews = pd.read_csv('/content/drive/MyDrive/chingu_datasets/user_reviews.csv', nrows=500000)\n"
      ],
      "metadata": {
        "id": "S0lzrpMwFzqf",
        "colab": {
          "base_uri": "https://localhost:8080/"
        },
        "collapsed": true,
        "outputId": "18cc5568-047c-40f0-913c-5026c3681cba"
      },
      "execution_count": 20,
      "outputs": [
        {
          "output_type": "stream",
          "name": "stderr",
          "text": [
            "<ipython-input-20-a9fac889cce0>:1: DtypeWarning: Columns (8) have mixed types. Specify dtype option on import or set low_memory=False.\n",
            "  critic_reviews = pd.read_csv('/content/drive/MyDrive/chingu_datasets/critic_reviews.csv')\n"
          ]
        }
      ]
    },
    {
      "cell_type": "code",
      "source": [
        "critic_reviews.info()"
      ],
      "metadata": {
        "colab": {
          "base_uri": "https://localhost:8080/"
        },
        "id": "xigbfu4ESi-x",
        "outputId": "92236666-9df7-4633-e3d5-bdeecc93d421"
      },
      "execution_count": 21,
      "outputs": [
        {
          "output_type": "stream",
          "name": "stdout",
          "text": [
            "<class 'pandas.core.frame.DataFrame'>\n",
            "RangeIndex: 967564 entries, 0 to 967563\n",
            "Data columns (total 16 columns):\n",
            " #   Column           Non-Null Count   Dtype \n",
            "---  ------           --------------   ----- \n",
            " 0   reviewId         967564 non-null  int64 \n",
            " 1   movieId          967564 non-null  object\n",
            " 2   creationDate     967564 non-null  object\n",
            " 3   criticName       958112 non-null  object\n",
            " 4   criticPageUrl    958112 non-null  object\n",
            " 5   reviewState      967564 non-null  object\n",
            " 6   isFresh          967564 non-null  bool  \n",
            " 7   isRotten         967564 non-null  bool  \n",
            " 8   isRtUrl          911079 non-null  object\n",
            " 9   isTopCritic      967564 non-null  bool  \n",
            " 10  publicationUrl   967564 non-null  object\n",
            " 11  publicationName  967564 non-null  object\n",
            " 12  reviewUrl        849906 non-null  object\n",
            " 13  quote            934601 non-null  object\n",
            " 14  scoreSentiment   967564 non-null  object\n",
            " 15  originalScore    693527 non-null  object\n",
            "dtypes: bool(3), int64(1), object(12)\n",
            "memory usage: 98.7+ MB\n"
          ]
        }
      ]
    },
    {
      "cell_type": "code",
      "source": [
        "movies.info()"
      ],
      "metadata": {
        "colab": {
          "base_uri": "https://localhost:8080/"
        },
        "id": "JrM5gEdhQE8W",
        "outputId": "16222f40-acd9-44e9-cb33-524143535303"
      },
      "execution_count": 22,
      "outputs": [
        {
          "output_type": "stream",
          "name": "stdout",
          "text": [
            "<class 'pandas.core.frame.DataFrame'>\n",
            "RangeIndex: 10233 entries, 0 to 10232\n",
            "Data columns (total 13 columns):\n",
            " #   Column                  Non-Null Count  Dtype  \n",
            "---  ------                  --------------  -----  \n",
            " 0   movieId                 10233 non-null  object \n",
            " 1   movieYear               10233 non-null  int64  \n",
            " 2   movieURL                10233 non-null  object \n",
            " 3   movieTitle              10233 non-null  object \n",
            " 4   critic_score            9738 non-null   float64\n",
            " 5   critic_sentiment        9738 non-null   object \n",
            " 6   audience_score          10144 non-null  float64\n",
            " 7   audience_sentiment      10144 non-null  object \n",
            " 8   release_date_theaters   7928 non-null   object \n",
            " 9   release_date_streaming  10233 non-null  object \n",
            " 10  rating                  7758 non-null   object \n",
            " 11  original_language       10214 non-null  object \n",
            " 12  runtime                 10216 non-null  object \n",
            "dtypes: float64(2), int64(1), object(10)\n",
            "memory usage: 1.0+ MB\n"
          ]
        }
      ]
    },
    {
      "cell_type": "code",
      "source": [
        "user_reviews.info()"
      ],
      "metadata": {
        "colab": {
          "base_uri": "https://localhost:8080/"
        },
        "id": "1IuRhVY7QHzw",
        "outputId": "89e0210d-398f-48d7-c5c1-3a9d3aa84867"
      },
      "execution_count": 23,
      "outputs": [
        {
          "output_type": "stream",
          "name": "stdout",
          "text": [
            "<class 'pandas.core.frame.DataFrame'>\n",
            "RangeIndex: 500000 entries, 0 to 499999\n",
            "Data columns (total 13 columns):\n",
            " #   Column           Non-Null Count   Dtype  \n",
            "---  ------           --------------   -----  \n",
            " 0   movieId          500000 non-null  object \n",
            " 1   rating           500000 non-null  float64\n",
            " 2   quote            500000 non-null  object \n",
            " 3   reviewId         1907 non-null    object \n",
            " 4   isVerified       500000 non-null  bool   \n",
            " 5   isSuperReviewer  500000 non-null  bool   \n",
            " 6   hasSpoilers      500000 non-null  bool   \n",
            " 7   hasProfanity     500000 non-null  bool   \n",
            " 8   score            500000 non-null  float64\n",
            " 9   creationDate     500000 non-null  object \n",
            " 10  userDisplayName  1160 non-null    object \n",
            " 11  userRealm        500000 non-null  object \n",
            " 12  userId           500000 non-null  object \n",
            "dtypes: bool(4), float64(2), object(7)\n",
            "memory usage: 36.2+ MB\n"
          ]
        }
      ]
    },
    {
      "cell_type": "code",
      "source": [],
      "metadata": {
        "id": "8Thp9JVOQJ9_"
      },
      "execution_count": 23,
      "outputs": []
    },
    {
      "cell_type": "code",
      "source": [],
      "metadata": {
        "id": "B7asj1K-Q3_N"
      },
      "execution_count": null,
      "outputs": []
    }
  ],
  "metadata": {
    "colab": {
      "provenance": [],
      "authorship_tag": "ABX9TyMfy4jl9c5oWA8a3m2PKoFm",
      "include_colab_link": true
    },
    "kernelspec": {
      "display_name": "Python 3",
      "name": "python3"
    },
    "language_info": {
      "name": "python"
    }
  },
  "nbformat": 4,
  "nbformat_minor": 0
}